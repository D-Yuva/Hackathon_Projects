{
 "cells": [
  {
   "cell_type": "code",
   "execution_count": 160,
   "metadata": {},
   "outputs": [],
   "source": [
    "import numpy as np\n",
    "import pandas as pd\n",
    "import matplotlib.pyplot as mp\n",
    "import seaborn as sns\n",
    "import tensorflow as tf\n",
    "from sklearn.preprocessing import StandardScaler\n",
    "from imblearn.over_sampling import RandomOverSampler\n",
    "from sklearn.model_selection import train_test_split\n"
   ]
  },
  {
   "cell_type": "code",
   "execution_count": 161,
   "metadata": {},
   "outputs": [],
   "source": [
    "data1 = pd.read_csv(r\"C:\\Users\\TRIDNT\\Documents\\Codes_and_Stuff\\Datasets\\PLANT TON_EFFICIENCY_TEMPERATURE\\PLANT TON_EFFICIENCY\\TableData (6).csv\")\n",
    "data2 = pd.read_excel(r\"C:\\Users\\TRIDNT\\Documents\\Codes_and_Stuff\\Datasets\\PLANT TON_EFFICIENCY_TEMPERATURE\\TEMPERATURE\\ECCO 19400(19400) sensors data (3).xlsx\",engine='openpyxl')"
   ]
  },
  {
   "cell_type": "code",
   "execution_count": 162,
   "metadata": {},
   "outputs": [
    {
     "name": "stdout",
     "output_type": "stream",
     "text": [
      "Shape of data1: (4441, 31)\n",
      "Shape of data2: (13247, 4)\n"
     ]
    }
   ],
   "source": [
    "print(\"Shape of data1:\", data1.shape)\n",
    "print(\"Shape of data2:\", data2.shape)"
   ]
  },
  {
   "cell_type": "code",
   "execution_count": 163,
   "metadata": {},
   "outputs": [
    {
     "name": "stdout",
     "output_type": "stream",
     "text": [
      "(4441, 34)\n"
     ]
    },
    {
     "data": {
      "text/html": [
       "<div>\n",
       "<style scoped>\n",
       "    .dataframe tbody tr th:only-of-type {\n",
       "        vertical-align: middle;\n",
       "    }\n",
       "\n",
       "    .dataframe tbody tr th {\n",
       "        vertical-align: top;\n",
       "    }\n",
       "\n",
       "    .dataframe thead th {\n",
       "        text-align: right;\n",
       "    }\n",
       "</style>\n",
       "<table border=\"1\" class=\"dataframe\">\n",
       "  <thead>\n",
       "    <tr style=\"text-align: right;\">\n",
       "      <th></th>\n",
       "      <th>Time</th>\n",
       "      <th>RT</th>\n",
       "      <th>kW_Tot</th>\n",
       "      <th>kW_RT</th>\n",
       "      <th>CH Load</th>\n",
       "      <th>CH1</th>\n",
       "      <th>CH2</th>\n",
       "      <th>CH3</th>\n",
       "      <th>CH4</th>\n",
       "      <th>kW_CHH</th>\n",
       "      <th>...</th>\n",
       "      <th>Hz_CHS</th>\n",
       "      <th>Hz_CDS</th>\n",
       "      <th>Hz_CT</th>\n",
       "      <th>Precent_CH</th>\n",
       "      <th>Precent_ CHP</th>\n",
       "      <th>Precent_CDS</th>\n",
       "      <th>Precent_CT</th>\n",
       "      <th>RH [%]</th>\n",
       "      <th>Temperature [°C]</th>\n",
       "      <th>WBT_C</th>\n",
       "    </tr>\n",
       "  </thead>\n",
       "  <tbody>\n",
       "    <tr>\n",
       "      <th>0</th>\n",
       "      <td>2023-12-01T00:00:00</td>\n",
       "      <td>201.2</td>\n",
       "      <td>208.7</td>\n",
       "      <td>1.037</td>\n",
       "      <td>39.6</td>\n",
       "      <td>0</td>\n",
       "      <td>1</td>\n",
       "      <td>0</td>\n",
       "      <td>0</td>\n",
       "      <td>135.6</td>\n",
       "      <td>...</td>\n",
       "      <td>0</td>\n",
       "      <td>47</td>\n",
       "      <td>47.0</td>\n",
       "      <td>65.0</td>\n",
       "      <td>11.2</td>\n",
       "      <td>14.8</td>\n",
       "      <td>9.1</td>\n",
       "      <td>68.4</td>\n",
       "      <td>30.8</td>\n",
       "      <td>26.1</td>\n",
       "    </tr>\n",
       "    <tr>\n",
       "      <th>1</th>\n",
       "      <td>2023-12-01T00:10:00</td>\n",
       "      <td>180.5</td>\n",
       "      <td>203.5</td>\n",
       "      <td>1.127</td>\n",
       "      <td>38.4</td>\n",
       "      <td>0</td>\n",
       "      <td>1</td>\n",
       "      <td>0</td>\n",
       "      <td>0</td>\n",
       "      <td>130.4</td>\n",
       "      <td>...</td>\n",
       "      <td>0</td>\n",
       "      <td>47</td>\n",
       "      <td>47.0</td>\n",
       "      <td>64.1</td>\n",
       "      <td>11.5</td>\n",
       "      <td>15.2</td>\n",
       "      <td>9.3</td>\n",
       "      <td>68.3</td>\n",
       "      <td>30.8</td>\n",
       "      <td>26.1</td>\n",
       "    </tr>\n",
       "    <tr>\n",
       "      <th>2</th>\n",
       "      <td>2023-12-01T00:20:00</td>\n",
       "      <td>170.2</td>\n",
       "      <td>200.8</td>\n",
       "      <td>1.179</td>\n",
       "      <td>37.6</td>\n",
       "      <td>0</td>\n",
       "      <td>1</td>\n",
       "      <td>0</td>\n",
       "      <td>0</td>\n",
       "      <td>127.8</td>\n",
       "      <td>...</td>\n",
       "      <td>0</td>\n",
       "      <td>47</td>\n",
       "      <td>47.0</td>\n",
       "      <td>63.6</td>\n",
       "      <td>11.6</td>\n",
       "      <td>15.4</td>\n",
       "      <td>9.4</td>\n",
       "      <td>68.3</td>\n",
       "      <td>30.8</td>\n",
       "      <td>26.0</td>\n",
       "    </tr>\n",
       "    <tr>\n",
       "      <th>3</th>\n",
       "      <td>2023-12-01T00:30:00</td>\n",
       "      <td>184.9</td>\n",
       "      <td>201.2</td>\n",
       "      <td>1.088</td>\n",
       "      <td>37.8</td>\n",
       "      <td>0</td>\n",
       "      <td>1</td>\n",
       "      <td>0</td>\n",
       "      <td>0</td>\n",
       "      <td>128.3</td>\n",
       "      <td>...</td>\n",
       "      <td>0</td>\n",
       "      <td>47</td>\n",
       "      <td>47.0</td>\n",
       "      <td>63.8</td>\n",
       "      <td>11.6</td>\n",
       "      <td>15.2</td>\n",
       "      <td>9.4</td>\n",
       "      <td>68.4</td>\n",
       "      <td>30.8</td>\n",
       "      <td>26.1</td>\n",
       "    </tr>\n",
       "    <tr>\n",
       "      <th>4</th>\n",
       "      <td>2023-12-01T00:40:00</td>\n",
       "      <td>176.4</td>\n",
       "      <td>181.4</td>\n",
       "      <td>1.028</td>\n",
       "      <td>34.6</td>\n",
       "      <td>0</td>\n",
       "      <td>1</td>\n",
       "      <td>0</td>\n",
       "      <td>0</td>\n",
       "      <td>117.6</td>\n",
       "      <td>...</td>\n",
       "      <td>0</td>\n",
       "      <td>47</td>\n",
       "      <td>47.0</td>\n",
       "      <td>64.8</td>\n",
       "      <td>13.3</td>\n",
       "      <td>17.0</td>\n",
       "      <td>4.9</td>\n",
       "      <td>68.6</td>\n",
       "      <td>30.7</td>\n",
       "      <td>26.0</td>\n",
       "    </tr>\n",
       "  </tbody>\n",
       "</table>\n",
       "<p>5 rows × 34 columns</p>\n",
       "</div>"
      ],
      "text/plain": [
       "                  Time     RT  kW_Tot  kW_RT  CH Load  CH1  CH2  CH3  CH4  \\\n",
       "0  2023-12-01T00:00:00  201.2   208.7  1.037     39.6    0    1    0    0   \n",
       "1  2023-12-01T00:10:00  180.5   203.5  1.127     38.4    0    1    0    0   \n",
       "2  2023-12-01T00:20:00  170.2   200.8  1.179     37.6    0    1    0    0   \n",
       "3  2023-12-01T00:30:00  184.9   201.2  1.088     37.8    0    1    0    0   \n",
       "4  2023-12-01T00:40:00  176.4   181.4  1.028     34.6    0    1    0    0   \n",
       "\n",
       "   kW_CHH  ...  Hz_CHS  Hz_CDS  Hz_CT  Precent_CH  Precent_ CHP  Precent_CDS  \\\n",
       "0   135.6  ...       0      47   47.0        65.0          11.2         14.8   \n",
       "1   130.4  ...       0      47   47.0        64.1          11.5         15.2   \n",
       "2   127.8  ...       0      47   47.0        63.6          11.6         15.4   \n",
       "3   128.3  ...       0      47   47.0        63.8          11.6         15.2   \n",
       "4   117.6  ...       0      47   47.0        64.8          13.3         17.0   \n",
       "\n",
       "   Precent_CT  RH [%]  Temperature [°C]  WBT_C  \n",
       "0         9.1    68.4              30.8   26.1  \n",
       "1         9.3    68.3              30.8   26.1  \n",
       "2         9.4    68.3              30.8   26.0  \n",
       "3         9.4    68.4              30.8   26.1  \n",
       "4         4.9    68.6              30.7   26.0  \n",
       "\n",
       "[5 rows x 34 columns]"
      ]
     },
     "execution_count": 163,
     "metadata": {},
     "output_type": "execute_result"
    }
   ],
   "source": [
    "data2_subset = data2.iloc[:data1.shape[0]]  # Select the first 4000 rows from data2\n",
    "data2_subset = data2_subset.drop(columns=['DateTime'])\n",
    "\n",
    "combined_data = pd.concat([data1, data2_subset], axis=1)\n",
    "\n",
    "print(combined_data.shape)  # Check the shape to verify\n",
    "combined_data.head()\n"
   ]
  },
  {
   "cell_type": "code",
   "execution_count": 164,
   "metadata": {},
   "outputs": [],
   "source": [
    "combined_data = combined_data.dropna()\n",
    "\n",
    "def preprocess_data(data):\n",
    "    \"\"\"\n",
    "    Preprocesses the input dataset by categorizing the 'Time' column,\n",
    "    dropping unnecessary columns if they exist, and filtering out zero values in the 'Plant_Efiiciency' column.\n",
    "\n",
    "    Args:\n",
    "    data (pd.DataFrame): The input dataset to be preprocessed\n",
    "\n",
    "    Returns:\n",
    "    pd.DataFrame: The preprocessed dataset\n",
    "    \"\"\"\n",
    "    data['Time'] = pd.to_datetime(data['Time'], errors='coerce')\n",
    "    \n",
    "    # categorize time into 4 periods\n",
    "    def categorize_time(time):\n",
    "        if pd.isnull(time):  # Handle NaT values in case of parsing errors\n",
    "            return None\n",
    "        if time.hour < 6 or (time.hour == 6 and time.minute == 0):\n",
    "            return 1\n",
    "        elif (time.hour == 6 and time.minute > 0) or (time.hour < 12 or (time.hour == 12 and time.minute == 0)):\n",
    "            return 2\n",
    "        elif (time.hour == 12 and time.minute > 0) or (time.hour < 18 or (time.hour == 18 and time.minute == 0)):\n",
    "            return 3\n",
    "        else:\n",
    "            return 4\n",
    "\n",
    "    # categorize time into weekday and weekend\n",
    "    def classify_week_type(time):\n",
    "        if pd.isnull(time):  # Handle NaT values in case of parsing errors\n",
    "            return None\n",
    "        day_of_week = time.weekday()  # Monday=0, Tuesday=1, ..., Sunday=6\n",
    "        if day_of_week in [4, 5, 6]:  # Friday (4), Saturday (5), Sunday (6)\n",
    "            return 1\n",
    "        else:\n",
    "            return 0\n",
    "    \n",
    "    data['Time_Category'] = data['Time'].apply(categorize_time)\n",
    "    data['week_type'] = data['Time'].apply(classify_week_type)\n",
    "\n",
    "    # Step 4: Drop the 'Time' column after categorization\n",
    "    data_pp = data.drop(columns=['Time'])\n",
    "    \n",
    "    # Step 5: Rename 'kW_RT' column to 'Plant_Efiiciency', if it exists\n",
    "    if 'kW_RT' in data_pp.columns:\n",
    "        data_pp['Plant_Efiiciency'] = data_pp.pop('kW_RT')\n",
    "    \n",
    "    # Step 6: Drop specific columns only if they exist in the dataset\n",
    "    columns_to_drop = ['CH1', 'CH2', 'CH3', 'CH4', 'kW_CHS', 'Hz_CHS']\n",
    "    existing_columns = [col for col in columns_to_drop if col in data_pp.columns]\n",
    "    \n",
    "    if existing_columns:\n",
    "        data_pp = data_pp.drop(columns=existing_columns)\n",
    "    \n",
    "    # Step 7: Filter out rows where 'Plant_Efiiciency' is zero\n",
    "    if 'Plant_Efiiciency' in data_pp.columns:\n",
    "        data_final = data_pp[data_pp['Plant_Efiiciency'] != 0]\n",
    "    else:\n",
    "        data_final = data_pp  # If 'Plant_Efiiciency' doesn't exist, return data as is\n",
    "    \n",
    "    return data_final\n"
   ]
  },
  {
   "cell_type": "code",
   "execution_count": 165,
   "metadata": {},
   "outputs": [
    {
     "data": {
      "text/html": [
       "<div>\n",
       "<style scoped>\n",
       "    .dataframe tbody tr th:only-of-type {\n",
       "        vertical-align: middle;\n",
       "    }\n",
       "\n",
       "    .dataframe tbody tr th {\n",
       "        vertical-align: top;\n",
       "    }\n",
       "\n",
       "    .dataframe thead th {\n",
       "        text-align: right;\n",
       "    }\n",
       "</style>\n",
       "<table border=\"1\" class=\"dataframe\">\n",
       "  <thead>\n",
       "    <tr style=\"text-align: right;\">\n",
       "      <th></th>\n",
       "      <th>RT</th>\n",
       "      <th>kW_Tot</th>\n",
       "      <th>CH Load</th>\n",
       "      <th>kW_CHH</th>\n",
       "      <th>kW_CHP</th>\n",
       "      <th>kW_CDS</th>\n",
       "      <th>kW_CT</th>\n",
       "      <th>GPM</th>\n",
       "      <th>DeltaCHW</th>\n",
       "      <th>CHWS</th>\n",
       "      <th>...</th>\n",
       "      <th>Precent_CH</th>\n",
       "      <th>Precent_ CHP</th>\n",
       "      <th>Precent_CDS</th>\n",
       "      <th>Precent_CT</th>\n",
       "      <th>RH [%]</th>\n",
       "      <th>Temperature [°C]</th>\n",
       "      <th>WBT_C</th>\n",
       "      <th>Time_Category</th>\n",
       "      <th>week_type</th>\n",
       "      <th>Plant_Efiiciency</th>\n",
       "    </tr>\n",
       "  </thead>\n",
       "  <tbody>\n",
       "    <tr>\n",
       "      <th>0</th>\n",
       "      <td>201.2</td>\n",
       "      <td>208.7</td>\n",
       "      <td>39.6</td>\n",
       "      <td>135.6</td>\n",
       "      <td>23.3</td>\n",
       "      <td>30.9</td>\n",
       "      <td>18.9</td>\n",
       "      <td>1238.0</td>\n",
       "      <td>3.9</td>\n",
       "      <td>47.0</td>\n",
       "      <td>...</td>\n",
       "      <td>65.0</td>\n",
       "      <td>11.2</td>\n",
       "      <td>14.8</td>\n",
       "      <td>9.1</td>\n",
       "      <td>68.4</td>\n",
       "      <td>30.8</td>\n",
       "      <td>26.1</td>\n",
       "      <td>1</td>\n",
       "      <td>1</td>\n",
       "      <td>1.037</td>\n",
       "    </tr>\n",
       "    <tr>\n",
       "      <th>1</th>\n",
       "      <td>180.5</td>\n",
       "      <td>203.5</td>\n",
       "      <td>38.4</td>\n",
       "      <td>130.4</td>\n",
       "      <td>23.3</td>\n",
       "      <td>30.9</td>\n",
       "      <td>18.9</td>\n",
       "      <td>1238.0</td>\n",
       "      <td>3.5</td>\n",
       "      <td>47.3</td>\n",
       "      <td>...</td>\n",
       "      <td>64.1</td>\n",
       "      <td>11.5</td>\n",
       "      <td>15.2</td>\n",
       "      <td>9.3</td>\n",
       "      <td>68.3</td>\n",
       "      <td>30.8</td>\n",
       "      <td>26.1</td>\n",
       "      <td>1</td>\n",
       "      <td>1</td>\n",
       "      <td>1.127</td>\n",
       "    </tr>\n",
       "    <tr>\n",
       "      <th>2</th>\n",
       "      <td>170.2</td>\n",
       "      <td>200.8</td>\n",
       "      <td>37.6</td>\n",
       "      <td>127.8</td>\n",
       "      <td>23.3</td>\n",
       "      <td>30.9</td>\n",
       "      <td>18.9</td>\n",
       "      <td>1238.0</td>\n",
       "      <td>3.3</td>\n",
       "      <td>47.4</td>\n",
       "      <td>...</td>\n",
       "      <td>63.6</td>\n",
       "      <td>11.6</td>\n",
       "      <td>15.4</td>\n",
       "      <td>9.4</td>\n",
       "      <td>68.3</td>\n",
       "      <td>30.8</td>\n",
       "      <td>26.0</td>\n",
       "      <td>1</td>\n",
       "      <td>1</td>\n",
       "      <td>1.179</td>\n",
       "    </tr>\n",
       "    <tr>\n",
       "      <th>3</th>\n",
       "      <td>184.9</td>\n",
       "      <td>201.2</td>\n",
       "      <td>37.8</td>\n",
       "      <td>128.3</td>\n",
       "      <td>23.3</td>\n",
       "      <td>30.6</td>\n",
       "      <td>18.9</td>\n",
       "      <td>1233.0</td>\n",
       "      <td>3.6</td>\n",
       "      <td>47.2</td>\n",
       "      <td>...</td>\n",
       "      <td>63.8</td>\n",
       "      <td>11.6</td>\n",
       "      <td>15.2</td>\n",
       "      <td>9.4</td>\n",
       "      <td>68.4</td>\n",
       "      <td>30.8</td>\n",
       "      <td>26.1</td>\n",
       "      <td>1</td>\n",
       "      <td>1</td>\n",
       "      <td>1.088</td>\n",
       "    </tr>\n",
       "    <tr>\n",
       "      <th>4</th>\n",
       "      <td>176.4</td>\n",
       "      <td>181.4</td>\n",
       "      <td>34.6</td>\n",
       "      <td>117.6</td>\n",
       "      <td>24.1</td>\n",
       "      <td>30.8</td>\n",
       "      <td>8.9</td>\n",
       "      <td>1282.8</td>\n",
       "      <td>3.3</td>\n",
       "      <td>47.5</td>\n",
       "      <td>...</td>\n",
       "      <td>64.8</td>\n",
       "      <td>13.3</td>\n",
       "      <td>17.0</td>\n",
       "      <td>4.9</td>\n",
       "      <td>68.6</td>\n",
       "      <td>30.7</td>\n",
       "      <td>26.0</td>\n",
       "      <td>1</td>\n",
       "      <td>1</td>\n",
       "      <td>1.028</td>\n",
       "    </tr>\n",
       "    <tr>\n",
       "      <th>...</th>\n",
       "      <td>...</td>\n",
       "      <td>...</td>\n",
       "      <td>...</td>\n",
       "      <td>...</td>\n",
       "      <td>...</td>\n",
       "      <td>...</td>\n",
       "      <td>...</td>\n",
       "      <td>...</td>\n",
       "      <td>...</td>\n",
       "      <td>...</td>\n",
       "      <td>...</td>\n",
       "      <td>...</td>\n",
       "      <td>...</td>\n",
       "      <td>...</td>\n",
       "      <td>...</td>\n",
       "      <td>...</td>\n",
       "      <td>...</td>\n",
       "      <td>...</td>\n",
       "      <td>...</td>\n",
       "      <td>...</td>\n",
       "      <td>...</td>\n",
       "    </tr>\n",
       "    <tr>\n",
       "      <th>3995</th>\n",
       "      <td>265.0</td>\n",
       "      <td>222.2</td>\n",
       "      <td>43.4</td>\n",
       "      <td>147.3</td>\n",
       "      <td>23.6</td>\n",
       "      <td>31.0</td>\n",
       "      <td>20.3</td>\n",
       "      <td>1324.9</td>\n",
       "      <td>4.8</td>\n",
       "      <td>46.3</td>\n",
       "      <td>...</td>\n",
       "      <td>66.3</td>\n",
       "      <td>10.6</td>\n",
       "      <td>13.9</td>\n",
       "      <td>9.1</td>\n",
       "      <td>72.7</td>\n",
       "      <td>33.2</td>\n",
       "      <td>29.0</td>\n",
       "      <td>4</td>\n",
       "      <td>0</td>\n",
       "      <td>0.839</td>\n",
       "    </tr>\n",
       "    <tr>\n",
       "      <th>3996</th>\n",
       "      <td>249.8</td>\n",
       "      <td>214.3</td>\n",
       "      <td>44.1</td>\n",
       "      <td>149.8</td>\n",
       "      <td>23.6</td>\n",
       "      <td>31.4</td>\n",
       "      <td>9.4</td>\n",
       "      <td>1303.4</td>\n",
       "      <td>4.6</td>\n",
       "      <td>46.4</td>\n",
       "      <td>...</td>\n",
       "      <td>69.9</td>\n",
       "      <td>11.0</td>\n",
       "      <td>14.7</td>\n",
       "      <td>4.4</td>\n",
       "      <td>73.7</td>\n",
       "      <td>33.0</td>\n",
       "      <td>29.0</td>\n",
       "      <td>4</td>\n",
       "      <td>0</td>\n",
       "      <td>0.858</td>\n",
       "    </tr>\n",
       "    <tr>\n",
       "      <th>3997</th>\n",
       "      <td>252.3</td>\n",
       "      <td>200.6</td>\n",
       "      <td>40.2</td>\n",
       "      <td>136.4</td>\n",
       "      <td>23.6</td>\n",
       "      <td>31.4</td>\n",
       "      <td>9.2</td>\n",
       "      <td>1316.6</td>\n",
       "      <td>4.6</td>\n",
       "      <td>46.2</td>\n",
       "      <td>...</td>\n",
       "      <td>68.0</td>\n",
       "      <td>11.8</td>\n",
       "      <td>15.7</td>\n",
       "      <td>4.6</td>\n",
       "      <td>71.8</td>\n",
       "      <td>33.0</td>\n",
       "      <td>28.6</td>\n",
       "      <td>4</td>\n",
       "      <td>0</td>\n",
       "      <td>0.795</td>\n",
       "    </tr>\n",
       "    <tr>\n",
       "      <th>3998</th>\n",
       "      <td>239.6</td>\n",
       "      <td>213.8</td>\n",
       "      <td>44.1</td>\n",
       "      <td>149.6</td>\n",
       "      <td>23.6</td>\n",
       "      <td>31.5</td>\n",
       "      <td>9.1</td>\n",
       "      <td>1307.0</td>\n",
       "      <td>4.4</td>\n",
       "      <td>46.5</td>\n",
       "      <td>...</td>\n",
       "      <td>70.0</td>\n",
       "      <td>11.0</td>\n",
       "      <td>14.7</td>\n",
       "      <td>4.3</td>\n",
       "      <td>72.0</td>\n",
       "      <td>32.9</td>\n",
       "      <td>28.6</td>\n",
       "      <td>4</td>\n",
       "      <td>0</td>\n",
       "      <td>0.892</td>\n",
       "    </tr>\n",
       "    <tr>\n",
       "      <th>3999</th>\n",
       "      <td>247.7</td>\n",
       "      <td>237.8</td>\n",
       "      <td>51.2</td>\n",
       "      <td>173.8</td>\n",
       "      <td>23.5</td>\n",
       "      <td>31.2</td>\n",
       "      <td>9.1</td>\n",
       "      <td>1321.3</td>\n",
       "      <td>4.5</td>\n",
       "      <td>46.3</td>\n",
       "      <td>...</td>\n",
       "      <td>73.1</td>\n",
       "      <td>9.9</td>\n",
       "      <td>13.1</td>\n",
       "      <td>3.8</td>\n",
       "      <td>73.0</td>\n",
       "      <td>32.9</td>\n",
       "      <td>28.8</td>\n",
       "      <td>4</td>\n",
       "      <td>0</td>\n",
       "      <td>0.960</td>\n",
       "    </tr>\n",
       "  </tbody>\n",
       "</table>\n",
       "<p>3878 rows × 29 columns</p>\n",
       "</div>"
      ],
      "text/plain": [
       "         RT  kW_Tot  CH Load  kW_CHH  kW_CHP  kW_CDS  kW_CT     GPM  DeltaCHW  \\\n",
       "0     201.2   208.7     39.6   135.6    23.3    30.9   18.9  1238.0       3.9   \n",
       "1     180.5   203.5     38.4   130.4    23.3    30.9   18.9  1238.0       3.5   \n",
       "2     170.2   200.8     37.6   127.8    23.3    30.9   18.9  1238.0       3.3   \n",
       "3     184.9   201.2     37.8   128.3    23.3    30.6   18.9  1233.0       3.6   \n",
       "4     176.4   181.4     34.6   117.6    24.1    30.8    8.9  1282.8       3.3   \n",
       "...     ...     ...      ...     ...     ...     ...    ...     ...       ...   \n",
       "3995  265.0   222.2     43.4   147.3    23.6    31.0   20.3  1324.9       4.8   \n",
       "3996  249.8   214.3     44.1   149.8    23.6    31.4    9.4  1303.4       4.6   \n",
       "3997  252.3   200.6     40.2   136.4    23.6    31.4    9.2  1316.6       4.6   \n",
       "3998  239.6   213.8     44.1   149.6    23.6    31.5    9.1  1307.0       4.4   \n",
       "3999  247.7   237.8     51.2   173.8    23.5    31.2    9.1  1321.3       4.5   \n",
       "\n",
       "      CHWS  ...  Precent_CH  Precent_ CHP  Precent_CDS  Precent_CT  RH [%]  \\\n",
       "0     47.0  ...        65.0          11.2         14.8         9.1    68.4   \n",
       "1     47.3  ...        64.1          11.5         15.2         9.3    68.3   \n",
       "2     47.4  ...        63.6          11.6         15.4         9.4    68.3   \n",
       "3     47.2  ...        63.8          11.6         15.2         9.4    68.4   \n",
       "4     47.5  ...        64.8          13.3         17.0         4.9    68.6   \n",
       "...    ...  ...         ...           ...          ...         ...     ...   \n",
       "3995  46.3  ...        66.3          10.6         13.9         9.1    72.7   \n",
       "3996  46.4  ...        69.9          11.0         14.7         4.4    73.7   \n",
       "3997  46.2  ...        68.0          11.8         15.7         4.6    71.8   \n",
       "3998  46.5  ...        70.0          11.0         14.7         4.3    72.0   \n",
       "3999  46.3  ...        73.1           9.9         13.1         3.8    73.0   \n",
       "\n",
       "      Temperature [°C]  WBT_C  Time_Category  week_type  Plant_Efiiciency  \n",
       "0                 30.8   26.1              1          1             1.037  \n",
       "1                 30.8   26.1              1          1             1.127  \n",
       "2                 30.8   26.0              1          1             1.179  \n",
       "3                 30.8   26.1              1          1             1.088  \n",
       "4                 30.7   26.0              1          1             1.028  \n",
       "...                ...    ...            ...        ...               ...  \n",
       "3995              33.2   29.0              4          0             0.839  \n",
       "3996              33.0   29.0              4          0             0.858  \n",
       "3997              33.0   28.6              4          0             0.795  \n",
       "3998              32.9   28.6              4          0             0.892  \n",
       "3999              32.9   28.8              4          0             0.960  \n",
       "\n",
       "[3878 rows x 29 columns]"
      ]
     },
     "execution_count": 165,
     "metadata": {},
     "output_type": "execute_result"
    }
   ],
   "source": [
    "preprocessed_data = preprocess_data(combined_data)\n",
    "preprocessed_data"
   ]
  },
  {
   "cell_type": "code",
   "execution_count": 166,
   "metadata": {},
   "outputs": [
    {
     "data": {
      "text/plain": [
       "RT                  1825\n",
       "kW_Tot              1871\n",
       "CH Load              714\n",
       "kW_CHH              1785\n",
       "kW_CHP                28\n",
       "kW_CDS                81\n",
       "kW_CT                100\n",
       "GPM                  131\n",
       "DeltaCHW              74\n",
       "CHWS                  61\n",
       "CHWR                  88\n",
       "DeltaCDW              62\n",
       "CDHI                 244\n",
       "CDLO                 214\n",
       "WBT                   51\n",
       "DeltaCT              213\n",
       "Hz_ CHP                3\n",
       "Hz_CDS                 4\n",
       "Hz_CT                  8\n",
       "Precent_CH           349\n",
       "Precent_ CHP         136\n",
       "Precent_CDS          163\n",
       "Precent_CT           123\n",
       "RH [%]               352\n",
       "Temperature [°C]      76\n",
       "WBT_C                 71\n",
       "Time_Category          4\n",
       "week_type              2\n",
       "Plant_Efiiciency     622\n",
       "dtype: int64"
      ]
     },
     "execution_count": 166,
     "metadata": {},
     "output_type": "execute_result"
    }
   ],
   "source": [
    "preprocessed_data.nunique()"
   ]
  },
  {
   "cell_type": "code",
   "execution_count": 167,
   "metadata": {},
   "outputs": [],
   "source": [
    "from sklearn.model_selection import train_test_split\n",
    "\n",
    "X = preprocessed_data.drop('Plant_Efiiciency', axis=1)  # Drop the target column to get features\n",
    "Y = preprocessed_data['Plant_Efiiciency']  # Target column"
   ]
  },
  {
   "cell_type": "markdown",
   "metadata": {},
   "source": [
    "## Now we do the multi-colliniearity ahhaahah"
   ]
  },
  {
   "cell_type": "code",
   "execution_count": 168,
   "metadata": {},
   "outputs": [],
   "source": [
    "temp_data = X.copy()"
   ]
  },
  {
   "cell_type": "markdown",
   "metadata": {},
   "source": [
    "### Dropping columns between whom i found a correlation from theory"
   ]
  },
  {
   "cell_type": "code",
   "execution_count": 169,
   "metadata": {},
   "outputs": [
    {
     "data": {
      "text/plain": [
       "RT                  1825\n",
       "kW_Tot              1871\n",
       "CH Load              714\n",
       "kW_CHH              1785\n",
       "kW_CHP                28\n",
       "kW_CDS                81\n",
       "kW_CT                100\n",
       "GPM                  131\n",
       "DeltaCHW              74\n",
       "CHWS                  61\n",
       "CHWR                  88\n",
       "DeltaCDW              62\n",
       "CDHI                 244\n",
       "CDLO                 214\n",
       "WBT                   51\n",
       "DeltaCT              213\n",
       "Hz_ CHP                3\n",
       "Hz_CDS                 4\n",
       "Hz_CT                  8\n",
       "Precent_CH           349\n",
       "Precent_ CHP         136\n",
       "Precent_CDS          163\n",
       "Precent_CT           123\n",
       "RH [%]               352\n",
       "Temperature [°C]      76\n",
       "WBT_C                 71\n",
       "Time_Category          4\n",
       "week_type              2\n",
       "dtype: int64"
      ]
     },
     "execution_count": 169,
     "metadata": {},
     "output_type": "execute_result"
    }
   ],
   "source": [
    "temp_data.nunique()"
   ]
  },
  {
   "cell_type": "code",
   "execution_count": 170,
   "metadata": {},
   "outputs": [],
   "source": [
    "temp_data = temp_data.drop(columns=['GPM','DeltaCHW','CHWS','CHWR','kW_CHH', 'kW_CHP','kW_CT'],axis=1)"
   ]
  },
  {
   "cell_type": "code",
   "execution_count": 171,
   "metadata": {},
   "outputs": [
    {
     "data": {
      "text/plain": [
       "<Axes: >"
      ]
     },
     "execution_count": 171,
     "metadata": {},
     "output_type": "execute_result"
    },
    {
     "data": {
      "image/png": "[encoded data removed]",
      "text/plain": [
       "<Figure size 1000x800 with 2 Axes>"
      ]
     },
     "metadata": {},
     "output_type": "display_data"
    }
   ],
   "source": [
    "mp.figure(figsize=(10,8))\n",
    "sns.heatmap(temp_data.corr(),cmap='coolwarm',vmin=-1,vmax=1)"
   ]
  },
  {
   "cell_type": "code",
   "execution_count": 172,
   "metadata": {},
   "outputs": [
    {
     "name": "stdout",
     "output_type": "stream",
     "text": [
      "Total 14 correlated pairs found.\n",
      "Correlated Pair: kW_Tot and RT\n",
      "Correlated Pair: CH Load and RT\n",
      "Correlated Pair: CH Load and kW_Tot\n",
      "Correlated Pair: DeltaCDW and RT\n",
      "Correlated Pair: DeltaCDW and kW_Tot\n",
      "Correlated Pair: DeltaCDW and CH Load\n",
      "Correlated Pair: CDLO and CDHI\n",
      "Correlated Pair: Precent_CH and kW_Tot\n",
      "Correlated Pair: Precent_CH and CH Load\n",
      "Correlated Pair: Precent_ CHP and kW_Tot\n",
      "Correlated Pair: Precent_ CHP and CH Load\n",
      "Correlated Pair: Precent_ CHP and Precent_CH\n",
      "Correlated Pair: Precent_CDS and Precent_CH\n",
      "Correlated Pair: Precent_CDS and Precent_ CHP\n"
     ]
    }
   ],
   "source": [
    "def correlated_feature_pairs(dataset, threshold):\n",
    "    correlated_pairs = []  # List to store correlated feature pairs\n",
    "    corr_matrix = dataset.corr()\n",
    "\n",
    "    for i in range(len(corr_matrix.columns)):\n",
    "        for j in range(i):\n",
    "            if abs(corr_matrix.iloc[i, j]) > threshold:  # We are interested in absolute coeff value\n",
    "                feature1 = corr_matrix.columns[i]\n",
    "                feature2 = corr_matrix.columns[j]\n",
    "                correlated_pairs.append((feature1, feature2))\n",
    "\n",
    "    return correlated_pairs\n",
    "\n",
    "# Define a correlation threshold (e.g., 0.9, adjust as needed)\n",
    "correlation_threshold = 0.9\n",
    "\n",
    "# Use the function to get the correlated feature pairs\n",
    "correlated_pairs = correlated_feature_pairs(temp_data, correlation_threshold)\n",
    "\n",
    "print(\"Total\", len(correlated_pairs), \"correlated pairs found.\")\n",
    "\n",
    "# Print the correlated feature pairs\n",
    "for pair in correlated_pairs:\n",
    "    print(f\"Correlated Pair: {pair[0]} and {pair[1]}\")\n"
   ]
  },
  {
   "cell_type": "code",
   "execution_count": 176,
   "metadata": {},
   "outputs": [],
   "source": [
    "def correlation_data(data,thresh):\n",
    "    col_corr = set()\n",
    "    correlated_pairs = []\n",
    "    corr_matrix = data.corr()\n",
    "    for i in range(len(corr_matrix.columns)):\n",
    "        for j in range(i):\n",
    "            if abs(corr_matrix.iloc[i,j])>thresh:\n",
    "                colname = corr_matrix.columns[i]\n",
    "                col_corr.add(colname)\n",
    "    return col_corr"
   ]
  },
  {
   "cell_type": "code",
   "execution_count": 177,
   "metadata": {},
   "outputs": [
    {
     "data": {
      "text/plain": [
       "7"
      ]
     },
     "execution_count": 177,
     "metadata": {},
     "output_type": "execute_result"
    }
   ],
   "source": [
    "corr_features = correlation_data(temp_data,0.9)\n",
    "len(set(corr_features))"
   ]
  },
  {
   "cell_type": "code",
   "execution_count": 178,
   "metadata": {},
   "outputs": [
    {
     "data": {
      "text/plain": [
       "{'CDLO',\n",
       " 'CH Load',\n",
       " 'DeltaCDW',\n",
       " 'Precent_ CHP',\n",
       " 'Precent_CDS',\n",
       " 'Precent_CH',\n",
       " 'kW_Tot'}"
      ]
     },
     "execution_count": 178,
     "metadata": {},
     "output_type": "execute_result"
    }
   ],
   "source": [
    "corr_features"
   ]
  },
  {
   "cell_type": "markdown",
   "metadata": {},
   "source": [
    "#### Remove all paramters except CH Load and kW_Tot because there two are important in formulation of Plant Efficiency"
   ]
  },
  {
   "cell_type": "code",
   "execution_count": 179,
   "metadata": {},
   "outputs": [],
   "source": [
    "temp_data = temp_data.drop(columns=['CDLO','DeltaCDW','Precent_ CHP','Precent_CDS','Precent_CH'],axis=1)"
   ]
  },
  {
   "cell_type": "code",
   "execution_count": 180,
   "metadata": {},
   "outputs": [
    {
     "data": {
      "text/plain": [
       "RT                  1825\n",
       "kW_Tot              1871\n",
       "CH Load              714\n",
       "kW_CDS                81\n",
       "CDHI                 244\n",
       "WBT                   51\n",
       "DeltaCT              213\n",
       "Hz_ CHP                3\n",
       "Hz_CDS                 4\n",
       "Hz_CT                  8\n",
       "Precent_CT           123\n",
       "RH [%]               352\n",
       "Temperature [°C]      76\n",
       "WBT_C                 71\n",
       "Time_Category          4\n",
       "week_type              2\n",
       "dtype: int64"
      ]
     },
     "execution_count": 180,
     "metadata": {},
     "output_type": "execute_result"
    }
   ],
   "source": [
    "temp_data.nunique()"
   ]
  },
  {
   "cell_type": "code",
   "execution_count": 181,
   "metadata": {},
   "outputs": [
    {
     "data": {
      "text/plain": [
       "<Axes: >"
      ]
     },
     "execution_count": 181,
     "metadata": {},
     "output_type": "execute_result"
    },
    {
     "data": {
      "image/png": "[encoded data removed]",
      "text/plain": [
       "<Figure size 1000x800 with 2 Axes>"
      ]
     },
     "metadata": {},
     "output_type": "display_data"
    }
   ],
   "source": [
    "mp.figure(figsize=(10,8))\n",
    "sns.heatmap(temp_data.corr(),cmap='coolwarm',vmin=-1,vmax=1)"
   ]
  },
  {
   "cell_type": "code",
   "execution_count": 182,
   "metadata": {},
   "outputs": [
    {
     "data": {
      "text/plain": [
       "(3878, 16)"
      ]
     },
     "execution_count": 182,
     "metadata": {},
     "output_type": "execute_result"
    }
   ],
   "source": [
    "X_temp_data = temp_data.copy()\n",
    "X_temp_data.shape"
   ]
  },
  {
   "cell_type": "markdown",
   "metadata": {},
   "source": [
    "## Model"
   ]
  },
  {
   "cell_type": "code",
   "execution_count": 183,
   "metadata": {},
   "outputs": [
    {
     "name": "stdout",
     "output_type": "stream",
     "text": [
      "X_train shape: (3102, 16)\n",
      "X_test shape: (776, 16)\n",
      "Y_train shape: (3102,)\n",
      "Y_test shape: (776,)\n"
     ]
    }
   ],
   "source": [
    "X_train, X_test, Y_train, Y_test = train_test_split(X_temp_data, Y, test_size=0.2, random_state=42)\n",
    "\n",
    "# Output the shape of the splits for verification\n",
    "print(f\"X_train shape: {X_train.shape}\")\n",
    "print(f\"X_test shape: {X_test.shape}\")\n",
    "print(f\"Y_train shape: {Y_train.shape}\")\n",
    "print(f\"Y_test shape: {Y_test.shape}\")"
   ]
  },
  {
   "cell_type": "code",
   "execution_count": 184,
   "metadata": {},
   "outputs": [
    {
     "name": "stderr",
     "output_type": "stream",
     "text": [
      "C:\\Users\\TRIDNT\\AppData\\Local\\Packages\\PythonSoftwareFoundation.Python.3.9_qbz5n2kfra8p0\\LocalCache\\local-packages\\Python39\\site-packages\\keras\\src\\layers\\core\\dense.py:87: UserWarning: Do not pass an `input_shape`/`input_dim` argument to a layer. When using Sequential models, prefer using an `Input(shape)` object as the first layer in the model instead.\n",
      "  super().__init__(activity_regularizer=activity_regularizer, **kwargs)\n"
     ]
    },
    {
     "data": {
      "text/html": [
       "<pre style=\"white-space:pre;overflow-x:auto;line-height:normal;font-family:Menlo,'DejaVu Sans Mono',consolas,'Courier New',monospace\"><span style=\"font-weight: bold\">Model: \"sequential_2\"</span>\n",
       "</pre>\n"
      ],
      "text/plain": [
       "\u001b[1mModel: \"sequential_2\"\u001b[0m\n"
      ]
     },
     "metadata": {},
     "output_type": "display_data"
    },
    {
     "data": {
      "text/html": [
       "<pre style=\"white-space:pre;overflow-x:auto;line-height:normal;font-family:Menlo,'DejaVu Sans Mono',consolas,'Courier New',monospace\">┏━━━━━━━━━━━━━━━━━━━━━━━━━━━━━━━━━┳━━━━━━━━━━━━━━━━━━━━━━━━┳━━━━━━━━━━━━━━━┓\n",
       "┃<span style=\"font-weight: bold\"> Layer (type)                    </span>┃<span style=\"font-weight: bold\"> Output Shape           </span>┃<span style=\"font-weight: bold\">       Param # </span>┃\n",
       "┡━━━━━━━━━━━━━━━━━━━━━━━━━━━━━━━━━╇━━━━━━━━━━━━━━━━━━━━━━━━╇━━━━━━━━━━━━━━━┩\n",
       "│ dense_8 (<span style=\"color: #0087ff; text-decoration-color: #0087ff\">Dense</span>)                 │ (<span style=\"color: #00d7ff; text-decoration-color: #00d7ff\">None</span>, <span style=\"color: #00af00; text-decoration-color: #00af00\">10</span>)             │           <span style=\"color: #00af00; text-decoration-color: #00af00\">170</span> │\n",
       "├─────────────────────────────────┼────────────────────────┼───────────────┤\n",
       "│ batch_normalization_6           │ (<span style=\"color: #00d7ff; text-decoration-color: #00d7ff\">None</span>, <span style=\"color: #00af00; text-decoration-color: #00af00\">10</span>)             │            <span style=\"color: #00af00; text-decoration-color: #00af00\">40</span> │\n",
       "│ (<span style=\"color: #0087ff; text-decoration-color: #0087ff\">BatchNormalization</span>)            │                        │               │\n",
       "├─────────────────────────────────┼────────────────────────┼───────────────┤\n",
       "│ dropout_6 (<span style=\"color: #0087ff; text-decoration-color: #0087ff\">Dropout</span>)             │ (<span style=\"color: #00d7ff; text-decoration-color: #00d7ff\">None</span>, <span style=\"color: #00af00; text-decoration-color: #00af00\">10</span>)             │             <span style=\"color: #00af00; text-decoration-color: #00af00\">0</span> │\n",
       "├─────────────────────────────────┼────────────────────────┼───────────────┤\n",
       "│ dense_9 (<span style=\"color: #0087ff; text-decoration-color: #0087ff\">Dense</span>)                 │ (<span style=\"color: #00d7ff; text-decoration-color: #00d7ff\">None</span>, <span style=\"color: #00af00; text-decoration-color: #00af00\">128</span>)            │         <span style=\"color: #00af00; text-decoration-color: #00af00\">1,408</span> │\n",
       "├─────────────────────────────────┼────────────────────────┼───────────────┤\n",
       "│ batch_normalization_7           │ (<span style=\"color: #00d7ff; text-decoration-color: #00d7ff\">None</span>, <span style=\"color: #00af00; text-decoration-color: #00af00\">128</span>)            │           <span style=\"color: #00af00; text-decoration-color: #00af00\">512</span> │\n",
       "│ (<span style=\"color: #0087ff; text-decoration-color: #0087ff\">BatchNormalization</span>)            │                        │               │\n",
       "├─────────────────────────────────┼────────────────────────┼───────────────┤\n",
       "│ dropout_7 (<span style=\"color: #0087ff; text-decoration-color: #0087ff\">Dropout</span>)             │ (<span style=\"color: #00d7ff; text-decoration-color: #00d7ff\">None</span>, <span style=\"color: #00af00; text-decoration-color: #00af00\">128</span>)            │             <span style=\"color: #00af00; text-decoration-color: #00af00\">0</span> │\n",
       "├─────────────────────────────────┼────────────────────────┼───────────────┤\n",
       "│ dense_10 (<span style=\"color: #0087ff; text-decoration-color: #0087ff\">Dense</span>)                │ (<span style=\"color: #00d7ff; text-decoration-color: #00d7ff\">None</span>, <span style=\"color: #00af00; text-decoration-color: #00af00\">64</span>)             │         <span style=\"color: #00af00; text-decoration-color: #00af00\">8,256</span> │\n",
       "├─────────────────────────────────┼────────────────────────┼───────────────┤\n",
       "│ batch_normalization_8           │ (<span style=\"color: #00d7ff; text-decoration-color: #00d7ff\">None</span>, <span style=\"color: #00af00; text-decoration-color: #00af00\">64</span>)             │           <span style=\"color: #00af00; text-decoration-color: #00af00\">256</span> │\n",
       "│ (<span style=\"color: #0087ff; text-decoration-color: #0087ff\">BatchNormalization</span>)            │                        │               │\n",
       "├─────────────────────────────────┼────────────────────────┼───────────────┤\n",
       "│ dropout_8 (<span style=\"color: #0087ff; text-decoration-color: #0087ff\">Dropout</span>)             │ (<span style=\"color: #00d7ff; text-decoration-color: #00d7ff\">None</span>, <span style=\"color: #00af00; text-decoration-color: #00af00\">64</span>)             │             <span style=\"color: #00af00; text-decoration-color: #00af00\">0</span> │\n",
       "├─────────────────────────────────┼────────────────────────┼───────────────┤\n",
       "│ dense_11 (<span style=\"color: #0087ff; text-decoration-color: #0087ff\">Dense</span>)                │ (<span style=\"color: #00d7ff; text-decoration-color: #00d7ff\">None</span>, <span style=\"color: #00af00; text-decoration-color: #00af00\">16</span>)             │         <span style=\"color: #00af00; text-decoration-color: #00af00\">1,040</span> │\n",
       "├─────────────────────────────────┼────────────────────────┼───────────────┤\n",
       "│ batch_normalization_9           │ (<span style=\"color: #00d7ff; text-decoration-color: #00d7ff\">None</span>, <span style=\"color: #00af00; text-decoration-color: #00af00\">16</span>)             │            <span style=\"color: #00af00; text-decoration-color: #00af00\">64</span> │\n",
       "│ (<span style=\"color: #0087ff; text-decoration-color: #0087ff\">BatchNormalization</span>)            │                        │               │\n",
       "├─────────────────────────────────┼────────────────────────┼───────────────┤\n",
       "│ dropout_9 (<span style=\"color: #0087ff; text-decoration-color: #0087ff\">Dropout</span>)             │ (<span style=\"color: #00d7ff; text-decoration-color: #00d7ff\">None</span>, <span style=\"color: #00af00; text-decoration-color: #00af00\">16</span>)             │             <span style=\"color: #00af00; text-decoration-color: #00af00\">0</span> │\n",
       "├─────────────────────────────────┼────────────────────────┼───────────────┤\n",
       "│ dense_12 (<span style=\"color: #0087ff; text-decoration-color: #0087ff\">Dense</span>)                │ (<span style=\"color: #00d7ff; text-decoration-color: #00d7ff\">None</span>, <span style=\"color: #00af00; text-decoration-color: #00af00\">1</span>)              │            <span style=\"color: #00af00; text-decoration-color: #00af00\">17</span> │\n",
       "└─────────────────────────────────┴────────────────────────┴───────────────┘\n",
       "</pre>\n"
      ],
      "text/plain": [
       "┏━━━━━━━━━━━━━━━━━━━━━━━━━━━━━━━━━┳━━━━━━━━━━━━━━━━━━━━━━━━┳━━━━━━━━━━━━━━━┓\n",
       "┃\u001b[1m \u001b[0m\u001b[1mLayer (type)                   \u001b[0m\u001b[1m \u001b[0m┃\u001b[1m \u001b[0m\u001b[1mOutput Shape          \u001b[0m\u001b[1m \u001b[0m┃\u001b[1m \u001b[0m\u001b[1m      Param #\u001b[0m\u001b[1m \u001b[0m┃\n",
       "┡━━━━━━━━━━━━━━━━━━━━━━━━━━━━━━━━━╇━━━━━━━━━━━━━━━━━━━━━━━━╇━━━━━━━━━━━━━━━┩\n",
       "│ dense_8 (\u001b[38;5;33mDense\u001b[0m)                 │ (\u001b[38;5;45mNone\u001b[0m, \u001b[38;5;34m10\u001b[0m)             │           \u001b[38;5;34m170\u001b[0m │\n",
       "├─────────────────────────────────┼────────────────────────┼───────────────┤\n",
       "│ batch_normalization_6           │ (\u001b[38;5;45mNone\u001b[0m, \u001b[38;5;34m10\u001b[0m)             │            \u001b[38;5;34m40\u001b[0m │\n",
       "│ (\u001b[38;5;33mBatchNormalization\u001b[0m)            │                        │               │\n",
       "├─────────────────────────────────┼────────────────────────┼───────────────┤\n",
       "│ dropout_6 (\u001b[38;5;33mDropout\u001b[0m)             │ (\u001b[38;5;45mNone\u001b[0m, \u001b[38;5;34m10\u001b[0m)             │             \u001b[38;5;34m0\u001b[0m │\n",
       "├─────────────────────────────────┼────────────────────────┼───────────────┤\n",
       "│ dense_9 (\u001b[38;5;33mDense\u001b[0m)                 │ (\u001b[38;5;45mNone\u001b[0m, \u001b[38;5;34m128\u001b[0m)            │         \u001b[38;5;34m1,408\u001b[0m │\n",
       "├─────────────────────────────────┼────────────────────────┼───────────────┤\n",
       "│ batch_normalization_7           │ (\u001b[38;5;45mNone\u001b[0m, \u001b[38;5;34m128\u001b[0m)            │           \u001b[38;5;34m512\u001b[0m │\n",
       "│ (\u001b[38;5;33mBatchNormalization\u001b[0m)            │                        │               │\n",
       "├─────────────────────────────────┼────────────────────────┼───────────────┤\n",
       "│ dropout_7 (\u001b[38;5;33mDropout\u001b[0m)             │ (\u001b[38;5;45mNone\u001b[0m, \u001b[38;5;34m128\u001b[0m)            │             \u001b[38;5;34m0\u001b[0m │\n",
       "├─────────────────────────────────┼────────────────────────┼───────────────┤\n",
       "│ dense_10 (\u001b[38;5;33mDense\u001b[0m)                │ (\u001b[38;5;45mNone\u001b[0m, \u001b[38;5;34m64\u001b[0m)             │         \u001b[38;5;34m8,256\u001b[0m │\n",
       "├─────────────────────────────────┼────────────────────────┼───────────────┤\n",
       "│ batch_normalization_8           │ (\u001b[38;5;45mNone\u001b[0m, \u001b[38;5;34m64\u001b[0m)             │           \u001b[38;5;34m256\u001b[0m │\n",
       "│ (\u001b[38;5;33mBatchNormalization\u001b[0m)            │                        │               │\n",
       "├─────────────────────────────────┼────────────────────────┼───────────────┤\n",
       "│ dropout_8 (\u001b[38;5;33mDropout\u001b[0m)             │ (\u001b[38;5;45mNone\u001b[0m, \u001b[38;5;34m64\u001b[0m)             │             \u001b[38;5;34m0\u001b[0m │\n",
       "├─────────────────────────────────┼────────────────────────┼───────────────┤\n",
       "│ dense_11 (\u001b[38;5;33mDense\u001b[0m)                │ (\u001b[38;5;45mNone\u001b[0m, \u001b[38;5;34m16\u001b[0m)             │         \u001b[38;5;34m1,040\u001b[0m │\n",
       "├─────────────────────────────────┼────────────────────────┼───────────────┤\n",
       "│ batch_normalization_9           │ (\u001b[38;5;45mNone\u001b[0m, \u001b[38;5;34m16\u001b[0m)             │            \u001b[38;5;34m64\u001b[0m │\n",
       "│ (\u001b[38;5;33mBatchNormalization\u001b[0m)            │                        │               │\n",
       "├─────────────────────────────────┼────────────────────────┼───────────────┤\n",
       "│ dropout_9 (\u001b[38;5;33mDropout\u001b[0m)             │ (\u001b[38;5;45mNone\u001b[0m, \u001b[38;5;34m16\u001b[0m)             │             \u001b[38;5;34m0\u001b[0m │\n",
       "├─────────────────────────────────┼────────────────────────┼───────────────┤\n",
       "│ dense_12 (\u001b[38;5;33mDense\u001b[0m)                │ (\u001b[38;5;45mNone\u001b[0m, \u001b[38;5;34m1\u001b[0m)              │            \u001b[38;5;34m17\u001b[0m │\n",
       "└─────────────────────────────────┴────────────────────────┴───────────────┘\n"
      ]
     },
     "metadata": {},
     "output_type": "display_data"
    },
    {
     "data": {
      "text/html": [
       "<pre style=\"white-space:pre;overflow-x:auto;line-height:normal;font-family:Menlo,'DejaVu Sans Mono',consolas,'Courier New',monospace\"><span style=\"font-weight: bold\"> Total params: </span><span style=\"color: #00af00; text-decoration-color: #00af00\">11,763</span> (45.95 KB)\n",
       "</pre>\n"
      ],
      "text/plain": [
       "\u001b[1m Total params: \u001b[0m\u001b[38;5;34m11,763\u001b[0m (45.95 KB)\n"
      ]
     },
     "metadata": {},
     "output_type": "display_data"
    },
    {
     "data": {
      "text/html": [
       "<pre style=\"white-space:pre;overflow-x:auto;line-height:normal;font-family:Menlo,'DejaVu Sans Mono',consolas,'Courier New',monospace\"><span style=\"font-weight: bold\"> Trainable params: </span><span style=\"color: #00af00; text-decoration-color: #00af00\">11,327</span> (44.25 KB)\n",
       "</pre>\n"
      ],
      "text/plain": [
       "\u001b[1m Trainable params: \u001b[0m\u001b[38;5;34m11,327\u001b[0m (44.25 KB)\n"
      ]
     },
     "metadata": {},
     "output_type": "display_data"
    },
    {
     "data": {
      "text/html": [
       "<pre style=\"white-space:pre;overflow-x:auto;line-height:normal;font-family:Menlo,'DejaVu Sans Mono',consolas,'Courier New',monospace\"><span style=\"font-weight: bold\"> Non-trainable params: </span><span style=\"color: #00af00; text-decoration-color: #00af00\">436</span> (1.70 KB)\n",
       "</pre>\n"
      ],
      "text/plain": [
       "\u001b[1m Non-trainable params: \u001b[0m\u001b[38;5;34m436\u001b[0m (1.70 KB)\n"
      ]
     },
     "metadata": {},
     "output_type": "display_data"
    }
   ],
   "source": [
    "# Build the model\n",
    "model = tf.keras.Sequential([\n",
    "    tf.keras.layers.Dense(10, activation='relu', input_shape=(X_temp_data.shape[1],)),\n",
    "    tf.keras.layers.BatchNormalization(),\n",
    "    tf.keras.layers.Dropout(0.2),\n",
    "    tf.keras.layers.Dense(128, activation='relu'),\n",
    "    tf.keras.layers.BatchNormalization(),\n",
    "    tf.keras.layers.Dropout(0.2),\n",
    "    tf.keras.layers.Dense(64, activation='relu'),\n",
    "    tf.keras.layers.BatchNormalization(),\n",
    "    tf.keras.layers.Dropout(0.2),\n",
    "    tf.keras.layers.Dense(16, activation='relu'),\n",
    "    tf.keras.layers.BatchNormalization(),\n",
    "    tf.keras.layers.Dropout(0.2),\n",
    "    tf.keras.layers.Dense(1, activation='linear')  # Output layer for continuous prediction\n",
    "])\n",
    "\n",
    "# Print model summary to verify\n",
    "model.summary()\n"
   ]
  },
  {
   "cell_type": "code",
   "execution_count": 185,
   "metadata": {},
   "outputs": [
    {
     "name": "stdout",
     "output_type": "stream",
     "text": [
      "Epoch 1/15\n",
      "\u001b[1m78/78\u001b[0m \u001b[32m━━━━━━━━━━━━━━━━━━━━\u001b[0m\u001b[37m\u001b[0m \u001b[1m5s\u001b[0m 9ms/step - loss: 1.9807 - mean_absolute_error: 1.1082 - val_loss: 0.1471 - val_mean_absolute_error: 0.3492\n",
      "Epoch 2/15\n",
      "\u001b[1m78/78\u001b[0m \u001b[32m━━━━━━━━━━━━━━━━━━━━\u001b[0m\u001b[37m\u001b[0m \u001b[1m0s\u001b[0m 5ms/step - loss: 0.7740 - mean_absolute_error: 0.6723 - val_loss: 0.1008 - val_mean_absolute_error: 0.2927\n",
      "Epoch 3/15\n",
      "\u001b[1m78/78\u001b[0m \u001b[32m━━━━━━━━━━━━━━━━━━━━\u001b[0m\u001b[37m\u001b[0m \u001b[1m0s\u001b[0m 5ms/step - loss: 0.4350 - mean_absolute_error: 0.4930 - val_loss: 0.0488 - val_mean_absolute_error: 0.1996\n",
      "Epoch 4/15\n",
      "\u001b[1m78/78\u001b[0m \u001b[32m━━━━━━━━━━━━━━━━━━━━\u001b[0m\u001b[37m\u001b[0m \u001b[1m0s\u001b[0m 5ms/step - loss: 0.3394 - mean_absolute_error: 0.4256 - val_loss: 0.0151 - val_mean_absolute_error: 0.1016\n",
      "Epoch 5/15\n",
      "\u001b[1m78/78\u001b[0m \u001b[32m━━━━━━━━━━━━━━━━━━━━\u001b[0m\u001b[37m\u001b[0m \u001b[1m0s\u001b[0m 5ms/step - loss: 0.2825 - mean_absolute_error: 0.3768 - val_loss: 0.0093 - val_mean_absolute_error: 0.0722\n",
      "Epoch 6/15\n",
      "\u001b[1m78/78\u001b[0m \u001b[32m━━━━━━━━━━━━━━━━━━━━\u001b[0m\u001b[37m\u001b[0m \u001b[1m0s\u001b[0m 5ms/step - loss: 0.2026 - mean_absolute_error: 0.3336 - val_loss: 0.0114 - val_mean_absolute_error: 0.0739\n",
      "Epoch 7/15\n",
      "\u001b[1m78/78\u001b[0m \u001b[32m━━━━━━━━━━━━━━━━━━━━\u001b[0m\u001b[37m\u001b[0m \u001b[1m0s\u001b[0m 5ms/step - loss: 0.1872 - mean_absolute_error: 0.3113 - val_loss: 0.0081 - val_mean_absolute_error: 0.0770\n",
      "Epoch 8/15\n",
      "\u001b[1m78/78\u001b[0m \u001b[32m━━━━━━━━━━━━━━━━━━━━\u001b[0m\u001b[37m\u001b[0m \u001b[1m0s\u001b[0m 5ms/step - loss: 0.1529 - mean_absolute_error: 0.2790 - val_loss: 0.0057 - val_mean_absolute_error: 0.0601\n",
      "Epoch 9/15\n",
      "\u001b[1m78/78\u001b[0m \u001b[32m━━━━━━━━━━━━━━━━━━━━\u001b[0m\u001b[37m\u001b[0m \u001b[1m0s\u001b[0m 5ms/step - loss: 0.1318 - mean_absolute_error: 0.2604 - val_loss: 0.0049 - val_mean_absolute_error: 0.0507\n",
      "Epoch 10/15\n",
      "\u001b[1m78/78\u001b[0m \u001b[32m━━━━━━━━━━━━━━━━━━━━\u001b[0m\u001b[37m\u001b[0m \u001b[1m0s\u001b[0m 5ms/step - loss: 0.1078 - mean_absolute_error: 0.2295 - val_loss: 0.0049 - val_mean_absolute_error: 0.0505\n",
      "Epoch 11/15\n",
      "\u001b[1m78/78\u001b[0m \u001b[32m━━━━━━━━━━━━━━━━━━━━\u001b[0m\u001b[37m\u001b[0m \u001b[1m0s\u001b[0m 5ms/step - loss: 0.0846 - mean_absolute_error: 0.2073 - val_loss: 0.0064 - val_mean_absolute_error: 0.0562\n",
      "Epoch 12/15\n",
      "\u001b[1m78/78\u001b[0m \u001b[32m━━━━━━━━━━━━━━━━━━━━\u001b[0m\u001b[37m\u001b[0m \u001b[1m0s\u001b[0m 5ms/step - loss: 0.0762 - mean_absolute_error: 0.2036 - val_loss: 0.0048 - val_mean_absolute_error: 0.0507\n",
      "Epoch 13/15\n",
      "\u001b[1m78/78\u001b[0m \u001b[32m━━━━━━━━━━━━━━━━━━━━\u001b[0m\u001b[37m\u001b[0m \u001b[1m0s\u001b[0m 5ms/step - loss: 0.0690 - mean_absolute_error: 0.1876 - val_loss: 0.0034 - val_mean_absolute_error: 0.0456\n",
      "Epoch 14/15\n",
      "\u001b[1m78/78\u001b[0m \u001b[32m━━━━━━━━━━━━━━━━━━━━\u001b[0m\u001b[37m\u001b[0m \u001b[1m0s\u001b[0m 5ms/step - loss: 0.0621 - mean_absolute_error: 0.1768 - val_loss: 0.0028 - val_mean_absolute_error: 0.0416\n",
      "Epoch 15/15\n",
      "\u001b[1m78/78\u001b[0m \u001b[32m━━━━━━━━━━━━━━━━━━━━\u001b[0m\u001b[37m\u001b[0m \u001b[1m0s\u001b[0m 5ms/step - loss: 0.0568 - mean_absolute_error: 0.1668 - val_loss: 0.0031 - val_mean_absolute_error: 0.0401\n"
     ]
    }
   ],
   "source": [
    "# Fix: Monitor 'val_loss' or 'val_mean_absolute_error' instead of 'val_accuracy'\n",
    "early_stopping = tf.keras.callbacks.EarlyStopping(monitor='val_loss', patience=10, mode='min', verbose=1)\n",
    "\n",
    "# Compile the model with an appropriate regression loss and metrics\n",
    "model.compile(optimizer='Adam', loss='mean_squared_error', metrics=['mean_absolute_error'])\n",
    "\n",
    "# Fit the model and include the early stopping callback\n",
    "history = model.fit(X_train, Y_train, epochs=15, batch_size=32, validation_split=0.2, callbacks=[early_stopping])\n"
   ]
  },
  {
   "cell_type": "code",
   "execution_count": 186,
   "metadata": {},
   "outputs": [
    {
     "name": "stdout",
     "output_type": "stream",
     "text": [
      "\u001b[1m25/25\u001b[0m \u001b[32m━━━━━━━━━━━━━━━━━━━━\u001b[0m\u001b[37m\u001b[0m \u001b[1m0s\u001b[0m 2ms/step - loss: 0.0032 - mean_absolute_error: 0.0382\n",
      "Test Loss: 0.004367496818304062\n",
      "Test Metric: 0.04054280370473862\n"
     ]
    }
   ],
   "source": [
    "# Evaluate the model on the test data\n",
    "loss, metric = model.evaluate(X_test, Y_test)\n",
    "\n",
    "# Print the loss and metric (like accuracy, MAE, etc. depending on what you set)\n",
    "print(f\"Test Loss: {loss}\")\n",
    "print(f\"Test Metric: {metric}\")  # Metric could be accuracy, MAE, etc.\n"
   ]
  },
  {
   "cell_type": "code",
   "execution_count": 187,
   "metadata": {},
   "outputs": [
    {
     "name": "stdout",
     "output_type": "stream",
     "text": [
      "\u001b[1m25/25\u001b[0m \u001b[32m━━━━━━━━━━━━━━━━━━━━\u001b[0m\u001b[37m\u001b[0m \u001b[1m0s\u001b[0m 10ms/step\n"
     ]
    },
    {
     "data": {
      "image/png": "[encoded data removed]",
      "text/plain": [
       "<Figure size 1000x600 with 1 Axes>"
      ]
     },
     "metadata": {},
     "output_type": "display_data"
    }
   ],
   "source": [
    "import matplotlib.pyplot as plt\n",
    "import numpy as np\n",
    "\n",
    "# Convert Y_test to a NumPy array\n",
    "y_test = np.array(Y_test)\n",
    "\n",
    "# Predict the values using the model\n",
    "y_pred = model.predict(X_test)\n",
    "\n",
    "# Sort the values for better visualization (optional but useful for linear trends)\n",
    "sorted_idx = np.argsort(y_test)\n",
    "y_test_sorted = y_test[sorted_idx]\n",
    "y_pred_sorted = y_pred[sorted_idx]\n",
    "\n",
    "# Plot actual vs predicted values\n",
    "plt.figure(figsize=(10, 6))\n",
    "plt.plot(y_test_sorted, label='Actual Values', color='blue', linewidth=2)\n",
    "plt.plot(y_pred_sorted, label='Predicted Values', color='red', linestyle='--')\n",
    "plt.xlabel('Samples')\n",
    "plt.ylabel('Target Value')\n",
    "plt.title('Actual vs Predicted Values (Linear Regression)')\n",
    "plt.legend()\n",
    "plt.show()\n"
   ]
  },
  {
   "cell_type": "markdown",
   "metadata": {},
   "source": [
    "### Hyper Paramater Tuning"
   ]
  },
  {
   "cell_type": "code",
   "execution_count": 146,
   "metadata": {},
   "outputs": [
    {
     "name": "stdout",
     "output_type": "stream",
     "text": [
      "Trial 30 Complete [00h 00m 13s]\n",
      "val_mean_absolute_error: 0.01694888435304165\n",
      "\n",
      "Best val_mean_absolute_error So Far: 0.011625498533248901\n",
      "Total elapsed time: 00h 03m 49s\n",
      "\n",
      "The hyperparameter search is complete. \n",
      "The optimal number of units in the first densely-connected layer is 10, \n",
      "in the second layer is 64, \n",
      "and in the third layer is 16.\n",
      "The optimal dropout rates are 0.0, 0.2, and 0.1.\n",
      "The optimal learning rate for the optimizer is 0.01.\n",
      "\n"
     ]
    },
    {
     "name": "stderr",
     "output_type": "stream",
     "text": [
      "C:\\Users\\TRIDNT\\AppData\\Local\\Packages\\PythonSoftwareFoundation.Python.3.9_qbz5n2kfra8p0\\LocalCache\\local-packages\\Python39\\site-packages\\keras\\src\\layers\\core\\dense.py:87: UserWarning: Do not pass an `input_shape`/`input_dim` argument to a layer. When using Sequential models, prefer using an `Input(shape)` object as the first layer in the model instead.\n",
      "  super().__init__(activity_regularizer=activity_regularizer, **kwargs)\n"
     ]
    }
   ],
   "source": [
    "import keras_tuner as kt\n",
    "from tensorflow import keras\n",
    "\n",
    "# Define a model builder function for Keras Tuner\n",
    "def model_builder(hp):\n",
    "    model = keras.Sequential()\n",
    "\n",
    "    # Tune the number of units in each Dense layer and dropout rates\n",
    "    hp_units_1 = hp.Int('units_1', min_value=10, max_value=128, step=16)\n",
    "    model.add(keras.layers.Dense(units=hp_units_1, activation='relu', input_shape=(X_train.shape[1],)))\n",
    "    model.add(keras.layers.BatchNormalization())\n",
    "    hp_dropout_1 = hp.Float('dropout_1', min_value=0.0, max_value=0.5, step=0.1)\n",
    "    model.add(keras.layers.Dropout(rate=hp_dropout_1))\n",
    "\n",
    "    hp_units_2 = hp.Int('units_2', min_value=64, max_value=256, step=32)\n",
    "    model.add(keras.layers.Dense(units=hp_units_2, activation='relu'))\n",
    "    model.add(keras.layers.BatchNormalization())\n",
    "    hp_dropout_2 = hp.Float('dropout_2', min_value=0.0, max_value=0.5, step=0.1)\n",
    "    model.add(keras.layers.Dropout(rate=hp_dropout_2))\n",
    "\n",
    "    hp_units_3 = hp.Int('units_3', min_value=16, max_value=64, step=16)\n",
    "    model.add(keras.layers.Dense(units=hp_units_3, activation='relu'))\n",
    "    model.add(keras.layers.BatchNormalization())\n",
    "    hp_dropout_3 = hp.Float('dropout_3', min_value=0.0, max_value=0.5, step=0.1)\n",
    "    model.add(keras.layers.Dropout(rate=hp_dropout_3))\n",
    "\n",
    "    model.add(keras.layers.Dense(1, activation='linear'))  # Output layer for continuous prediction\n",
    "\n",
    "    # Tune the learning rate for the optimizer\n",
    "    hp_learning_rate = hp.Choice('learning_rate', values=[1e-2, 1e-3, 1e-4])\n",
    "\n",
    "    model.compile(optimizer=keras.optimizers.Adam(learning_rate=hp_learning_rate),\n",
    "                  loss='mean_squared_error',\n",
    "                  metrics=['mean_absolute_error'])\n",
    "\n",
    "    return model\n",
    "\n",
    "# Initialize the Keras Tuner\n",
    "tuner = kt.Hyperband(\n",
    "    model_builder,\n",
    "    objective='val_mean_absolute_error',  # Minimize the mean absolute error for regression\n",
    "    max_epochs=10,\n",
    "    factor=3,\n",
    "    directory='my_dir',\n",
    "    project_name='chiller_tuning'\n",
    ")\n",
    "\n",
    "# Set up early stopping\n",
    "stop_early = keras.callbacks.EarlyStopping(monitor='val_loss', patience=5)\n",
    "\n",
    "# Run the hyperparameter search\n",
    "tuner.search(X_train, Y_train, epochs=50, validation_split=0.2, callbacks=[stop_early])\n",
    "\n",
    "# Get the optimal hyperparameters\n",
    "best_hps = tuner.get_best_hyperparameters(num_trials=1)[0]\n",
    "\n",
    "print(f\"\"\"\n",
    "The hyperparameter search is complete. \n",
    "The optimal number of units in the first densely-connected layer is {best_hps.get('units_1')}, \n",
    "in the second layer is {best_hps.get('units_2')}, \n",
    "and in the third layer is {best_hps.get('units_3')}.\n",
    "The optimal dropout rates are {best_hps.get('dropout_1')}, {best_hps.get('dropout_2')}, and {best_hps.get('dropout_3')}.\n",
    "The optimal learning rate for the optimizer is {best_hps.get('learning_rate')}.\n",
    "\"\"\")\n",
    "\n",
    "# Build the best model\n",
    "best_model = tuner.hypermodel.build(best_hps)\n",
    "\n",
    "# Train the best model\n",
    "# history = best_model.fit(X_train, Y_train, epochs=15, batch_size=32, validation_split=0.2, callbacks=[stop_early])\n"
   ]
  },
  {
   "cell_type": "code",
   "execution_count": 188,
   "metadata": {},
   "outputs": [
    {
     "name": "stdout",
     "output_type": "stream",
     "text": [
      "Epoch 1/150\n",
      "\u001b[1m78/78\u001b[0m \u001b[32m━━━━━━━━━━━━━━━━━━━━\u001b[0m\u001b[37m\u001b[0m \u001b[1m0s\u001b[0m 5ms/step - loss: 0.0025 - mean_absolute_error: 0.0310 - val_loss: 5.4689e-04 - val_mean_absolute_error: 0.0195\n",
      "Epoch 2/150\n",
      "\u001b[1m78/78\u001b[0m \u001b[32m━━━━━━━━━━━━━━━━━━━━\u001b[0m\u001b[37m\u001b[0m \u001b[1m0s\u001b[0m 4ms/step - loss: 0.0032 - mean_absolute_error: 0.0330 - val_loss: 3.6091e-04 - val_mean_absolute_error: 0.0161\n",
      "Epoch 3/150\n",
      "\u001b[1m78/78\u001b[0m \u001b[32m━━━━━━━━━━━━━━━━━━━━\u001b[0m\u001b[37m\u001b[0m \u001b[1m0s\u001b[0m 5ms/step - loss: 0.0029 - mean_absolute_error: 0.0303 - val_loss: 5.5333e-04 - val_mean_absolute_error: 0.0201\n",
      "Epoch 4/150\n",
      "\u001b[1m78/78\u001b[0m \u001b[32m━━━━━━━━━━━━━━━━━━━━\u001b[0m\u001b[37m\u001b[0m \u001b[1m0s\u001b[0m 4ms/step - loss: 0.0024 - mean_absolute_error: 0.0327 - val_loss: 9.2873e-04 - val_mean_absolute_error: 0.0204\n",
      "Epoch 5/150\n",
      "\u001b[1m78/78\u001b[0m \u001b[32m━━━━━━━━━━━━━━━━━━━━\u001b[0m\u001b[37m\u001b[0m \u001b[1m0s\u001b[0m 4ms/step - loss: 0.0025 - mean_absolute_error: 0.0336 - val_loss: 0.0025 - val_mean_absolute_error: 0.0466\n"
     ]
    }
   ],
   "source": [
    "history = best_model.fit(X_train, Y_train, epochs=150, batch_size=32, validation_split=0.2, callbacks=[stop_early])"
   ]
  },
  {
   "cell_type": "code",
   "execution_count": 190,
   "metadata": {},
   "outputs": [
    {
     "data": {
      "text/plain": [
       "(3102, 16)"
      ]
     },
     "execution_count": 190,
     "metadata": {},
     "output_type": "execute_result"
    }
   ],
   "source": [
    "X_train.shape   "
   ]
  },
  {
   "cell_type": "code",
   "execution_count": 189,
   "metadata": {},
   "outputs": [
    {
     "name": "stdout",
     "output_type": "stream",
     "text": [
      "\u001b[1m25/25\u001b[0m \u001b[32m━━━━━━━━━━━━━━━━━━━━\u001b[0m\u001b[37m\u001b[0m \u001b[1m0s\u001b[0m 2ms/step \n"
     ]
    },
    {
     "data": {
      "image/png": "[encoded data removed]",
      "text/plain": [
       "<Figure size 1000x600 with 1 Axes>"
      ]
     },
     "metadata": {},
     "output_type": "display_data"
    }
   ],
   "source": [
    "import matplotlib.pyplot as plt\n",
    "import numpy as np\n",
    "\n",
    "# Convert Y_test to a NumPy array\n",
    "y_test = np.array(Y_test)\n",
    "\n",
    "# Predict the values using the model\n",
    "y_pred = best_model.predict(X_test)\n",
    "\n",
    "# Sort the values for better visualization (optional but useful for linear trends)\n",
    "sorted_idx = np.argsort(y_test)\n",
    "y_test_sorted = y_test[sorted_idx]\n",
    "y_pred_sorted = y_pred[sorted_idx]\n",
    "\n",
    "# Plot actual vs predicted values\n",
    "plt.figure(figsize=(10, 6))\n",
    "plt.plot(y_test_sorted, label='Actual Values', color='blue', linewidth=2)\n",
    "plt.plot(y_pred_sorted, label='Predicted Values', color='red', linestyle='--')\n",
    "plt.xlabel('Samples')\n",
    "plt.ylabel('Target Value')\n",
    "plt.title('Actual vs Predicted Values (Linear Regression)')\n",
    "plt.legend()\n",
    "plt.show()\n"
   ]
  },
  {
   "cell_type": "code",
   "execution_count": 153,
   "metadata": {},
   "outputs": [],
   "source": [
    "best_model.save(r'C:\\Users\\TRIDNT\\Documents\\Codes_and_Stuff\\SelfMadeModels\\Best_Plant_Efficiency_Model.keras')"
   ]
  },
  {
   "cell_type": "code",
   "execution_count": 155,
   "metadata": {},
   "outputs": [],
   "source": [
    "import pandas as pd\n",
    "from sklearn.model_selection import train_test_split\n",
    "\n",
    "def preprocess_data(data1, data2, nrows_data2=4000, drop_correlated_columns=True):\n",
    "    \"\"\"\n",
    "    Preprocesses the input datasets by combining, cleaning, and preparing them for ML modeling.\n",
    "    \n",
    "    Parameters:\n",
    "    -----------\n",
    "    data1: pd.DataFrame\n",
    "        The first dataset (e.g., plant efficiency).\n",
    "    data2: pd.DataFrame\n",
    "        The second dataset (e.g., temperature data).\n",
    "    nrows_data2: int\n",
    "        Number of rows to select from the second dataset.\n",
    "    drop_correlated_columns: bool\n",
    "        Whether to drop highly correlated columns from the dataset.\n",
    "    \n",
    "    Returns:\n",
    "    --------\n",
    "    pd.DataFrame\n",
    "        Preprocessed dataset ready for machine learning.\n",
    "    \"\"\"\n",
    "    # Step 1: Select a subset of data2\n",
    "    data2_subset = data2.iloc[:nrows_data2].drop(columns=['DateTime'], errors='ignore')\n",
    "    \n",
    "    # Step 2: Combine the two datasets\n",
    "    combined_data = pd.concat([data1, data2_subset], axis=1)\n",
    "    \n",
    "    # Step 3: Drop rows with missing values\n",
    "    combined_data = combined_data.dropna()\n",
    "    \n",
    "    # Step 4: Convert 'Time' column to datetime and create new time-related features\n",
    "    combined_data['Time'] = pd.to_datetime(combined_data['Time'], errors='coerce')\n",
    "    \n",
    "    # Define time categorization functions\n",
    "    def categorize_time(time):\n",
    "        if pd.isnull(time):\n",
    "            return None\n",
    "        if time.hour < 6 or (time.hour == 6 and time.minute == 0):\n",
    "            return 1\n",
    "        elif (time.hour == 6 and time.minute > 0) or (time.hour < 12 or (time.hour == 12 and time.minute == 0)):\n",
    "            return 2\n",
    "        elif (time.hour == 12 and time.minute > 0) or (time.hour < 18 or (time.hour == 18 and time.minute == 0)):\n",
    "            return 3\n",
    "        else:\n",
    "            return 4\n",
    "\n",
    "    def classify_week_type(time):\n",
    "        if pd.isnull(time):\n",
    "            return None\n",
    "        return 1 if time.weekday() >= 4 else 0\n",
    "    \n",
    "    # Apply the functions to categorize time and week type\n",
    "    combined_data['Time_Category'] = combined_data['Time'].apply(categorize_time)\n",
    "    combined_data['Week_Type'] = combined_data['Time'].apply(classify_week_type)\n",
    "    \n",
    "    # Drop the 'Time' column after categorization\n",
    "    combined_data = combined_data.drop(columns=['Time'], errors='ignore')\n",
    "    \n",
    "    # Step 5: Rename 'kW_RT' to 'Plant_Efficiency' if it exists\n",
    "    if 'kW_RT' in combined_data.columns:\n",
    "        combined_data['Plant_Efficiency'] = combined_data.pop('kW_RT')\n",
    "    \n",
    "    # Step 6: Drop specific columns (optional)\n",
    "    columns_to_drop = ['CH1', 'CH2', 'CH3', 'CH4', 'kW_CHS', 'Hz_CHS']\n",
    "    combined_data = combined_data.drop(columns=[col for col in columns_to_drop if col in combined_data.columns], errors='ignore')\n",
    "    \n",
    "    # Step 7: Remove rows where 'Plant_Efficiency' is zero\n",
    "    if 'Plant_Efficiency' in combined_data.columns:\n",
    "        combined_data = combined_data[combined_data['Plant_Efficiency'] != 0]\n",
    "    \n",
    "    # Step 8: Drop highly correlated columns if flag is set\n",
    "    if drop_correlated_columns:\n",
    "        correlated_columns = correlation_data(combined_data.drop('Plant_Efficiency', axis=1), thresh=0.9)\n",
    "        combined_data = combined_data.drop(columns=correlated_columns)\n",
    "    \n",
    "    # Step 9: Remove specific additional columns\n",
    "    additional_columns_to_drop = ['GPM', 'DeltaCHW', 'CHWS', 'CHWR', 'kW_CHH', 'kW_CHP', 'kW_CT', \n",
    "                                  'CDLO', 'DeltaCDW', 'Precent_CHP', 'Precent_CDS', 'Precent_CH']\n",
    "    combined_data = combined_data.drop(columns=[col for col in additional_columns_to_drop if col in combined_data.columns], errors='ignore')\n",
    "\n",
    "    return combined_data\n",
    "\n",
    "def correlation_data(data, thresh=0.9):\n",
    "    \"\"\"\n",
    "    Identifies columns that are highly correlated with others.\n",
    "    \n",
    "    Parameters:\n",
    "    -----------\n",
    "    data: pd.DataFrame\n",
    "        The dataset to check for multicollinearity.\n",
    "    thresh: float\n",
    "        The threshold for correlation. Columns with a correlation higher than this will be dropped.\n",
    "    \n",
    "    Returns:\n",
    "    --------\n",
    "    set\n",
    "        A set of column names that are highly correlated.\n",
    "    \"\"\"\n",
    "    col_corr = set()  # Set of correlated columns to remove\n",
    "    corr_matrix = data.corr()\n",
    "    \n",
    "    for i in range(len(corr_matrix.columns)):\n",
    "        for j in range(i):\n",
    "            if abs(corr_matrix.iloc[i, j]) > thresh:\n",
    "                colname = corr_matrix.columns[i]\n",
    "                col_corr.add(colname)\n",
    "    \n",
    "    return col_corr\n",
    "\n",
    "def split_data(data, target_column, test_size=0.2, random_state=42):\n",
    "    \"\"\"\n",
    "    Splits the preprocessed data into training and testing sets.\n",
    "    \n",
    "    Parameters:\n",
    "    -----------\n",
    "    data: pd.DataFrame\n",
    "        The preprocessed dataset ready for ML.\n",
    "    target_column: str\n",
    "        The name of the target column to be predicted (e.g., 'Plant_Efficiency').\n",
    "    test_size: float\n",
    "        The proportion of the dataset to include in the test split.\n",
    "    random_state: int\n",
    "        Controls the shuffling applied to the data before splitting. Pass an int for reproducible output.\n",
    "    \n",
    "    Returns:\n",
    "    --------\n",
    "    X_train, X_test, Y_train, Y_test: pd.DataFrame\n",
    "        Features and target variables split into training and testing sets.\n",
    "    \"\"\"\n",
    "    X = data.drop(target_column, axis=1)\n",
    "    Y = data[target_column]\n",
    "    \n",
    "    X_train, X_test, Y_train, Y_test = train_test_split(X, Y, test_size=test_size, random_state=random_state)\n",
    "    \n",
    "    return X_train, X_test, Y_train, Y_test\n",
    "\n",
    "\n",
    "# Example Usage:\n",
    "# Load your data\n",
    "data1 = pd.read_csv(r\"C:\\Users\\TRIDNT\\Documents\\Codes_and_Stuff\\Datasets\\PLANT TON_EFFICIENCY_TEMPERATURE\\PLANT TON_EFFICIENCY\\TableData (6).csv\")\n",
    "data2 = pd.read_excel(r\"C:\\Users\\TRIDNT\\Documents\\Codes_and_Stuff\\Datasets\\PLANT TON_EFFICIENCY_TEMPERATURE\\TEMPERATURE\\ECCO 19400(19400) sensors data (3).xlsx\",engine='openpyxl')\n",
    "\n",
    "# Preprocess the data\n",
    "preprocessed_data = preprocess_data(data1, data2)\n",
    "\n",
    "# Split the data into train and test sets\n",
    "X_train, X_test, Y_train, Y_test = split_data(preprocessed_data, target_column='Plant_Efficiency')\n"
   ]
  },
  {
   "cell_type": "code",
   "execution_count": 157,
   "metadata": {},
   "outputs": [
    {
     "data": {
      "text/plain": [
       "14"
      ]
     },
     "execution_count": 157,
     "metadata": {},
     "output_type": "execute_result"
    }
   ],
   "source": [
    "X_train.shape[1]"
   ]
  },
  {
   "cell_type": "code",
   "execution_count": null,
   "metadata": {},
   "outputs": [],
   "source": [
    "history = best_model.fit(X_train, Y_train, epochs=150, batch_size=32, validation_split=0.2, callbacks=[stop_early])"
   ]
  },
  {
   "cell_type": "code",
   "execution_count": null,
   "metadata": {},
   "outputs": [],
   "source": []
  }
 ],
 "metadata": {
  "kernelspec": {
   "display_name": "Python 3",
   "language": "python",
   "name": "python3"
  },
  "language_info": {
   "codemirror_mode": {
    "name": "ipython",
    "version": 3
   },
   "file_extension": ".py",
   "mimetype": "text/x-python",
   "name": "python",
   "nbconvert_exporter": "python",
   "pygments_lexer": "ipython3",
   "version": "3.9.13"
  }
 },
 "nbformat": 4,
 "nbformat_minor": 2
}
