{
  "nbformat": 4,
  "nbformat_minor": 0,
  "metadata": {
    "colab": {
      "provenance": [],
      "collapsed_sections": [
        "8anq1GQWD5My"
      ]
    },
    "kernelspec": {
      "name": "python3",
      "display_name": "Python 3"
    },
    "language_info": {
      "name": "python"
    }
  },
  "cells": [
    {
      "cell_type": "code",
      "execution_count": null,
      "metadata": {
        "id": "j5l3HFqGVaSQ"
      },
      "outputs": [],
      "source": [
        "import numpy as np\n",
        "import pandas as pd\n",
        "import matplotlib.pyplot as plt\n",
        "import seaborn as sns\n",
        "\n",
        "from sklearn.model_selection import train_test_split\n",
        "from sklearn.preprocessing import StandardScaler\n",
        "\n",
        "#Models\n",
        "from sklearn.linear_model import LogisticRegression\n",
        "from sklearn.svm import SVC\n",
        "from sklearn.neighbors import KNeighborsClassifier\n",
        "from sklearn.naive_bayes import GaussianNB\n",
        "\n",
        "from sklearn.metrics import classification_report\n",
        "\n",
        "pd.set_option('display.max_columns', None) #To set no limit to the number of columns displayed"
      ]
    },
    {
      "cell_type": "code",
      "source": [
        "data = pd.read_csv('/content/Drug_Consumption_Quantified.csv')\n",
        "data = data.drop('ID', axis=1) #Extra data (not necassary) => axis = 1 to drop coloumns, for droping rows axis = 0\n",
        "data.head()"
      ],
      "metadata": {
        "id": "11NENjQOz40O",
        "colab": {
          "base_uri": "https://localhost:8080/",
          "height": 636
        },
        "outputId": "d6e80712-c733-49d1-8b80-62832a989e89"
      },
      "execution_count": null,
      "outputs": [
        {
          "output_type": "error",
          "ename": "FileNotFoundError",
          "evalue": "ignored",
          "traceback": [
            "\u001b[0;31m---------------------------------------------------------------------------\u001b[0m",
            "\u001b[0;31mFileNotFoundError\u001b[0m                         Traceback (most recent call last)",
            "\u001b[0;32m<ipython-input-4-9bbc6c53d397>\u001b[0m in \u001b[0;36m<cell line: 1>\u001b[0;34m()\u001b[0m\n\u001b[0;32m----> 1\u001b[0;31m \u001b[0mdata\u001b[0m \u001b[0;34m=\u001b[0m \u001b[0mpd\u001b[0m\u001b[0;34m.\u001b[0m\u001b[0mread_csv\u001b[0m\u001b[0;34m(\u001b[0m\u001b[0;34m'/content/Drug_Consumption_Quantified.csv'\u001b[0m\u001b[0;34m)\u001b[0m\u001b[0;34m\u001b[0m\u001b[0;34m\u001b[0m\u001b[0m\n\u001b[0m\u001b[1;32m      2\u001b[0m \u001b[0mdata\u001b[0m \u001b[0;34m=\u001b[0m \u001b[0mdata\u001b[0m\u001b[0;34m.\u001b[0m\u001b[0mdrop\u001b[0m\u001b[0;34m(\u001b[0m\u001b[0;34m'ID'\u001b[0m\u001b[0;34m,\u001b[0m \u001b[0maxis\u001b[0m\u001b[0;34m=\u001b[0m\u001b[0;36m1\u001b[0m\u001b[0;34m)\u001b[0m \u001b[0;31m#Extra data (not necassary) => axis = 1 to drop coloumns, for droping rows axis = 0\u001b[0m\u001b[0;34m\u001b[0m\u001b[0;34m\u001b[0m\u001b[0m\n\u001b[1;32m      3\u001b[0m \u001b[0mdata\u001b[0m\u001b[0;34m.\u001b[0m\u001b[0mhead\u001b[0m\u001b[0;34m(\u001b[0m\u001b[0;34m)\u001b[0m\u001b[0;34m\u001b[0m\u001b[0;34m\u001b[0m\u001b[0m\n",
            "\u001b[0;32m/usr/local/lib/python3.10/dist-packages/pandas/util/_decorators.py\u001b[0m in \u001b[0;36mwrapper\u001b[0;34m(*args, **kwargs)\u001b[0m\n\u001b[1;32m    209\u001b[0m                 \u001b[0;32melse\u001b[0m\u001b[0;34m:\u001b[0m\u001b[0;34m\u001b[0m\u001b[0;34m\u001b[0m\u001b[0m\n\u001b[1;32m    210\u001b[0m                     \u001b[0mkwargs\u001b[0m\u001b[0;34m[\u001b[0m\u001b[0mnew_arg_name\u001b[0m\u001b[0;34m]\u001b[0m \u001b[0;34m=\u001b[0m \u001b[0mnew_arg_value\u001b[0m\u001b[0;34m\u001b[0m\u001b[0;34m\u001b[0m\u001b[0m\n\u001b[0;32m--> 211\u001b[0;31m             \u001b[0;32mreturn\u001b[0m \u001b[0mfunc\u001b[0m\u001b[0;34m(\u001b[0m\u001b[0;34m*\u001b[0m\u001b[0margs\u001b[0m\u001b[0;34m,\u001b[0m \u001b[0;34m**\u001b[0m\u001b[0mkwargs\u001b[0m\u001b[0;34m)\u001b[0m\u001b[0;34m\u001b[0m\u001b[0;34m\u001b[0m\u001b[0m\n\u001b[0m\u001b[1;32m    212\u001b[0m \u001b[0;34m\u001b[0m\u001b[0m\n\u001b[1;32m    213\u001b[0m         \u001b[0;32mreturn\u001b[0m \u001b[0mcast\u001b[0m\u001b[0;34m(\u001b[0m\u001b[0mF\u001b[0m\u001b[0;34m,\u001b[0m \u001b[0mwrapper\u001b[0m\u001b[0;34m)\u001b[0m\u001b[0;34m\u001b[0m\u001b[0;34m\u001b[0m\u001b[0m\n",
            "\u001b[0;32m/usr/local/lib/python3.10/dist-packages/pandas/util/_decorators.py\u001b[0m in \u001b[0;36mwrapper\u001b[0;34m(*args, **kwargs)\u001b[0m\n\u001b[1;32m    329\u001b[0m                     \u001b[0mstacklevel\u001b[0m\u001b[0;34m=\u001b[0m\u001b[0mfind_stack_level\u001b[0m\u001b[0;34m(\u001b[0m\u001b[0;34m)\u001b[0m\u001b[0;34m,\u001b[0m\u001b[0;34m\u001b[0m\u001b[0;34m\u001b[0m\u001b[0m\n\u001b[1;32m    330\u001b[0m                 )\n\u001b[0;32m--> 331\u001b[0;31m             \u001b[0;32mreturn\u001b[0m \u001b[0mfunc\u001b[0m\u001b[0;34m(\u001b[0m\u001b[0;34m*\u001b[0m\u001b[0margs\u001b[0m\u001b[0;34m,\u001b[0m \u001b[0;34m**\u001b[0m\u001b[0mkwargs\u001b[0m\u001b[0;34m)\u001b[0m\u001b[0;34m\u001b[0m\u001b[0;34m\u001b[0m\u001b[0m\n\u001b[0m\u001b[1;32m    332\u001b[0m \u001b[0;34m\u001b[0m\u001b[0m\n\u001b[1;32m    333\u001b[0m         \u001b[0;31m# error: \"Callable[[VarArg(Any), KwArg(Any)], Any]\" has no\u001b[0m\u001b[0;34m\u001b[0m\u001b[0;34m\u001b[0m\u001b[0m\n",
            "\u001b[0;32m/usr/local/lib/python3.10/dist-packages/pandas/io/parsers/readers.py\u001b[0m in \u001b[0;36mread_csv\u001b[0;34m(filepath_or_buffer, sep, delimiter, header, names, index_col, usecols, squeeze, prefix, mangle_dupe_cols, dtype, engine, converters, true_values, false_values, skipinitialspace, skiprows, skipfooter, nrows, na_values, keep_default_na, na_filter, verbose, skip_blank_lines, parse_dates, infer_datetime_format, keep_date_col, date_parser, dayfirst, cache_dates, iterator, chunksize, compression, thousands, decimal, lineterminator, quotechar, quoting, doublequote, escapechar, comment, encoding, encoding_errors, dialect, error_bad_lines, warn_bad_lines, on_bad_lines, delim_whitespace, low_memory, memory_map, float_precision, storage_options)\u001b[0m\n\u001b[1;32m    948\u001b[0m     \u001b[0mkwds\u001b[0m\u001b[0;34m.\u001b[0m\u001b[0mupdate\u001b[0m\u001b[0;34m(\u001b[0m\u001b[0mkwds_defaults\u001b[0m\u001b[0;34m)\u001b[0m\u001b[0;34m\u001b[0m\u001b[0;34m\u001b[0m\u001b[0m\n\u001b[1;32m    949\u001b[0m \u001b[0;34m\u001b[0m\u001b[0m\n\u001b[0;32m--> 950\u001b[0;31m     \u001b[0;32mreturn\u001b[0m \u001b[0m_read\u001b[0m\u001b[0;34m(\u001b[0m\u001b[0mfilepath_or_buffer\u001b[0m\u001b[0;34m,\u001b[0m \u001b[0mkwds\u001b[0m\u001b[0;34m)\u001b[0m\u001b[0;34m\u001b[0m\u001b[0;34m\u001b[0m\u001b[0m\n\u001b[0m\u001b[1;32m    951\u001b[0m \u001b[0;34m\u001b[0m\u001b[0m\n\u001b[1;32m    952\u001b[0m \u001b[0;34m\u001b[0m\u001b[0m\n",
            "\u001b[0;32m/usr/local/lib/python3.10/dist-packages/pandas/io/parsers/readers.py\u001b[0m in \u001b[0;36m_read\u001b[0;34m(filepath_or_buffer, kwds)\u001b[0m\n\u001b[1;32m    603\u001b[0m \u001b[0;34m\u001b[0m\u001b[0m\n\u001b[1;32m    604\u001b[0m     \u001b[0;31m# Create the parser.\u001b[0m\u001b[0;34m\u001b[0m\u001b[0;34m\u001b[0m\u001b[0m\n\u001b[0;32m--> 605\u001b[0;31m     \u001b[0mparser\u001b[0m \u001b[0;34m=\u001b[0m \u001b[0mTextFileReader\u001b[0m\u001b[0;34m(\u001b[0m\u001b[0mfilepath_or_buffer\u001b[0m\u001b[0;34m,\u001b[0m \u001b[0;34m**\u001b[0m\u001b[0mkwds\u001b[0m\u001b[0;34m)\u001b[0m\u001b[0;34m\u001b[0m\u001b[0;34m\u001b[0m\u001b[0m\n\u001b[0m\u001b[1;32m    606\u001b[0m \u001b[0;34m\u001b[0m\u001b[0m\n\u001b[1;32m    607\u001b[0m     \u001b[0;32mif\u001b[0m \u001b[0mchunksize\u001b[0m \u001b[0;32mor\u001b[0m \u001b[0miterator\u001b[0m\u001b[0;34m:\u001b[0m\u001b[0;34m\u001b[0m\u001b[0;34m\u001b[0m\u001b[0m\n",
            "\u001b[0;32m/usr/local/lib/python3.10/dist-packages/pandas/io/parsers/readers.py\u001b[0m in \u001b[0;36m__init__\u001b[0;34m(self, f, engine, **kwds)\u001b[0m\n\u001b[1;32m   1440\u001b[0m \u001b[0;34m\u001b[0m\u001b[0m\n\u001b[1;32m   1441\u001b[0m         \u001b[0mself\u001b[0m\u001b[0;34m.\u001b[0m\u001b[0mhandles\u001b[0m\u001b[0;34m:\u001b[0m \u001b[0mIOHandles\u001b[0m \u001b[0;34m|\u001b[0m \u001b[0;32mNone\u001b[0m \u001b[0;34m=\u001b[0m \u001b[0;32mNone\u001b[0m\u001b[0;34m\u001b[0m\u001b[0;34m\u001b[0m\u001b[0m\n\u001b[0;32m-> 1442\u001b[0;31m         \u001b[0mself\u001b[0m\u001b[0;34m.\u001b[0m\u001b[0m_engine\u001b[0m \u001b[0;34m=\u001b[0m \u001b[0mself\u001b[0m\u001b[0;34m.\u001b[0m\u001b[0m_make_engine\u001b[0m\u001b[0;34m(\u001b[0m\u001b[0mf\u001b[0m\u001b[0;34m,\u001b[0m \u001b[0mself\u001b[0m\u001b[0;34m.\u001b[0m\u001b[0mengine\u001b[0m\u001b[0;34m)\u001b[0m\u001b[0;34m\u001b[0m\u001b[0;34m\u001b[0m\u001b[0m\n\u001b[0m\u001b[1;32m   1443\u001b[0m \u001b[0;34m\u001b[0m\u001b[0m\n\u001b[1;32m   1444\u001b[0m     \u001b[0;32mdef\u001b[0m \u001b[0mclose\u001b[0m\u001b[0;34m(\u001b[0m\u001b[0mself\u001b[0m\u001b[0;34m)\u001b[0m \u001b[0;34m->\u001b[0m \u001b[0;32mNone\u001b[0m\u001b[0;34m:\u001b[0m\u001b[0;34m\u001b[0m\u001b[0;34m\u001b[0m\u001b[0m\n",
            "\u001b[0;32m/usr/local/lib/python3.10/dist-packages/pandas/io/parsers/readers.py\u001b[0m in \u001b[0;36m_make_engine\u001b[0;34m(self, f, engine)\u001b[0m\n\u001b[1;32m   1733\u001b[0m                 \u001b[0;32mif\u001b[0m \u001b[0;34m\"b\"\u001b[0m \u001b[0;32mnot\u001b[0m \u001b[0;32min\u001b[0m \u001b[0mmode\u001b[0m\u001b[0;34m:\u001b[0m\u001b[0;34m\u001b[0m\u001b[0;34m\u001b[0m\u001b[0m\n\u001b[1;32m   1734\u001b[0m                     \u001b[0mmode\u001b[0m \u001b[0;34m+=\u001b[0m \u001b[0;34m\"b\"\u001b[0m\u001b[0;34m\u001b[0m\u001b[0;34m\u001b[0m\u001b[0m\n\u001b[0;32m-> 1735\u001b[0;31m             self.handles = get_handle(\n\u001b[0m\u001b[1;32m   1736\u001b[0m                 \u001b[0mf\u001b[0m\u001b[0;34m,\u001b[0m\u001b[0;34m\u001b[0m\u001b[0;34m\u001b[0m\u001b[0m\n\u001b[1;32m   1737\u001b[0m                 \u001b[0mmode\u001b[0m\u001b[0;34m,\u001b[0m\u001b[0;34m\u001b[0m\u001b[0;34m\u001b[0m\u001b[0m\n",
            "\u001b[0;32m/usr/local/lib/python3.10/dist-packages/pandas/io/common.py\u001b[0m in \u001b[0;36mget_handle\u001b[0;34m(path_or_buf, mode, encoding, compression, memory_map, is_text, errors, storage_options)\u001b[0m\n\u001b[1;32m    854\u001b[0m         \u001b[0;32mif\u001b[0m \u001b[0mioargs\u001b[0m\u001b[0;34m.\u001b[0m\u001b[0mencoding\u001b[0m \u001b[0;32mand\u001b[0m \u001b[0;34m\"b\"\u001b[0m \u001b[0;32mnot\u001b[0m \u001b[0;32min\u001b[0m \u001b[0mioargs\u001b[0m\u001b[0;34m.\u001b[0m\u001b[0mmode\u001b[0m\u001b[0;34m:\u001b[0m\u001b[0;34m\u001b[0m\u001b[0;34m\u001b[0m\u001b[0m\n\u001b[1;32m    855\u001b[0m             \u001b[0;31m# Encoding\u001b[0m\u001b[0;34m\u001b[0m\u001b[0;34m\u001b[0m\u001b[0m\n\u001b[0;32m--> 856\u001b[0;31m             handle = open(\n\u001b[0m\u001b[1;32m    857\u001b[0m                 \u001b[0mhandle\u001b[0m\u001b[0;34m,\u001b[0m\u001b[0;34m\u001b[0m\u001b[0;34m\u001b[0m\u001b[0m\n\u001b[1;32m    858\u001b[0m                 \u001b[0mioargs\u001b[0m\u001b[0;34m.\u001b[0m\u001b[0mmode\u001b[0m\u001b[0;34m,\u001b[0m\u001b[0;34m\u001b[0m\u001b[0;34m\u001b[0m\u001b[0m\n",
            "\u001b[0;31mFileNotFoundError\u001b[0m: [Errno 2] No such file or directory: '/content/Drug_Consumption_Quantified.csv'"
          ]
        }
      ]
    },
    {
      "cell_type": "code",
      "source": [
        "data.isna().sum().sum() #To check for empty data, .sum().sum() returns the total number of Not a Number (NaN) values in the entire DataFrame"
      ],
      "metadata": {
        "id": "jyWHS-ydm4QX"
      },
      "execution_count": null,
      "outputs": []
    },
    {
      "cell_type": "code",
      "source": [
        "print(f'Original shape of data with {data.shape[0]} rows and {data.shape[1]} columns') #f string is used to format the string, data.shape[0] is the value of number of rows and data.shape[1] is value of number of coloumns"
      ],
      "metadata": {
        "id": "jfLvSnhu5x_G"
      },
      "execution_count": null,
      "outputs": []
    },
    {
      "cell_type": "code",
      "source": [
        "data = data.drop(['Choc','Semer'], axis=1) #Choc (Chocolate) and Semer are fake drugs, so we are dropping them\n",
        "data = data.reset_index(drop=True) #resets the index value after dropping choc and semer"
      ],
      "metadata": {
        "id": "97zfQj3u7XO0"
      },
      "execution_count": null,
      "outputs": []
    },
    {
      "cell_type": "code",
      "source": [
        "data.head()"
      ],
      "metadata": {
        "id": "tqkoAfUy82mg"
      },
      "execution_count": null,
      "outputs": []
    },
    {
      "cell_type": "code",
      "source": [
        "drugs = ['Alcohol','Amyl','Amphet','Benzos','Caff','Cannabis','Coke','Crack','Ecstasy','Heroin','Ketamine','Legalh','LSD','Meth','Mushrooms','Nicotine','VSA'    ]"
      ],
      "metadata": {
        "id": "iCu4OJew-frr"
      },
      "execution_count": null,
      "outputs": []
    },
    {
      "cell_type": "markdown",
      "source": [
        "\n",
        "*   CL0 = No drug use\n",
        "*   CL1 = Experimental or occasional use\n",
        "*   CL2 = Frequent use\n",
        "*   CL3 or above (CL4, CL5,CL6) = Problematic usage"
      ],
      "metadata": {
        "id": "3JtloWuIA1rw"
      }
    },
    {
      "cell_type": "code",
      "source": [
        "#Ordinal Data, so we are assigning a integer to each value, for the machine to process it well\n",
        "def drug_condition(x):\n",
        "    if x == 'CL0':\n",
        "        return 0\n",
        "    elif x == 'CL1':\n",
        "        return 1\n",
        "    elif x == 'CL2':\n",
        "        return 2\n",
        "    elif x == 'CL3':\n",
        "        return 3\n",
        "    elif x == 'CL4':\n",
        "        return 4\n",
        "    elif x == 'CL5':\n",
        "        return 5\n",
        "    elif x == 'CL6':\n",
        "        return 6\n",
        "    else:\n",
        "        return 7"
      ],
      "metadata": {
        "id": "hTzn_BSGAjJH"
      },
      "execution_count": null,
      "outputs": []
    },
    {
      "cell_type": "code",
      "source": [
        "for column in drugs:\n",
        "    data[column] = data[column].apply(drug_condition)"
      ],
      "metadata": {
        "id": "PE42I4_XC3it"
      },
      "execution_count": null,
      "outputs": []
    },
    {
      "cell_type": "code",
      "source": [
        "data.head()\n"
      ],
      "metadata": {
        "id": "-KALiH5tGlCx"
      },
      "execution_count": null,
      "outputs": []
    },
    {
      "cell_type": "code",
      "source": [
        "data.Education.unique()"
      ],
      "metadata": {
        "id": "l83HdvRTM3D9"
      },
      "execution_count": null,
      "outputs": []
    },
    {
      "cell_type": "code",
      "source": [
        "sns.barplot(data=data, x='Age', y='Coke', label='Coke')\n",
        "plt.show()\n",
        "sns.barplot(data=data, x='Age', y='Heroin', label='Heroin')\n",
        "plt.show()\n",
        "sns.barplot(data=data, x='Age', y='Meth', label='Meth')\n",
        "plt.legend()\n",
        "plt.show()"
      ],
      "metadata": {
        "id": "NmHMibFtOVsV"
      },
      "execution_count": null,
      "outputs": []
    },
    {
      "cell_type": "markdown",
      "source": [],
      "metadata": {
        "id": "R8nvwsXFQ90N"
      }
    },
    {
      "cell_type": "code",
      "source": [
        "sns.barplot(data=data, x='Education', y='Coke', label='Coke')\n",
        "plt.show()\n",
        "sns.barplot(data=data, x='Education', y='Meth', label='Meth')\n",
        "plt.show()\n",
        "sns.barplot(data=data, x='Education', y='Heroin', label='Heroin')\n",
        "plt.ylabel('Drug Type')\n",
        "plt.xlabel('Education')\n",
        "plt.legend()\n",
        "plt.show()"
      ],
      "metadata": {
        "id": "_eSJ91UmyvI7"
      },
      "execution_count": null,
      "outputs": []
    },
    {
      "cell_type": "code",
      "source": [
        "sns.barplot(data=data, x='Gender', y='Coke', label='Coke')\n",
        "plt.show()\n",
        "sns.barplot(data=data, x='Gender', y='Heroin', label='Heroin')\n",
        "plt.show()\n",
        "sns.barplot(data=data, x='Gender', y='Meth', label='Meth')\n",
        "plt.ylabel('Drug Type')\n",
        "plt.xlabel('Gender')\n",
        "plt.legend()\n",
        "plt.show()"
      ],
      "metadata": {
        "id": "GRJWbb6dy8L2"
      },
      "execution_count": null,
      "outputs": []
    },
    {
      "cell_type": "code",
      "source": [
        "sns.barplot(data=data, x='Country', y='Coke', label='Coke')\n",
        "plt.show()\n",
        "sns.barplot(data=data, x='Country', y='Heroin', label='Heroin')\n",
        "plt.show()\n",
        "sns.barplot(data=data, x='Country', y='Meth', label='Meth')\n",
        "plt.ylabel('Drug Type')\n",
        "plt.xlabel('Country')\n",
        "plt.legend()\n",
        "plt.show()"
      ],
      "metadata": {
        "id": "nq8NQ2lHzFrY"
      },
      "execution_count": null,
      "outputs": []
    },
    {
      "cell_type": "code",
      "source": [
        "sns.barplot(data=data, x='Ethnicity', y='Coke', label='Coke')\n",
        "plt.show()\n",
        "sns.barplot(data=data, x='Ethnicity', y='Heroin', label='Heroin')\n",
        "plt.show()\n",
        "sns.barplot(data=data, x='Ethnicity', y='Meth', label='Meth')\n",
        "plt.ylabel('Drug Type')\n",
        "plt.xlabel('Ethnicity')\n",
        "plt.legend()\n",
        "plt.show()"
      ],
      "metadata": {
        "id": "yDYdxJsUzQhZ"
      },
      "execution_count": null,
      "outputs": []
    },
    {
      "cell_type": "markdown",
      "source": [
        "According to the graphs, Age, Gender, Education, Country and Ethinicity cannot be ignored or be droped"
      ],
      "metadata": {
        "id": "vSbAAb_gEHIb"
      }
    },
    {
      "cell_type": "code",
      "source": [
        "# if 1 is shown in the column other than 0 then the individual uses the drug\n",
        "\n",
        "cocaine_df = data.copy()\n",
        "#assigning new column for cocaine+-\n",
        "cocaine_df['coke_user'] = cocaine_df['Coke'].apply(lambda x: 0.5 if x not in [0,1] else 0)\n",
        "cocaine_df['crack_user'] = cocaine_df['Crack'].apply(lambda x: 0.5 if x not in [0,1] else 0)\n",
        "cocaine_df['both_user'] = cocaine_df[['coke_user', 'crack_user']].iloc[:].sum(axis=1)\n",
        "# Cocaine = Crack + Coke\n",
        "cocaine_df['Cocaine_User'] = cocaine_df['both_user'].apply(lambda x: 1 if x > 0 else 0)\n",
        "#droping uneccassry column\n",
        "cocaine_df = cocaine_df.drop(['coke_user', 'crack_user', 'both_user' ], axis=1)"
      ],
      "metadata": {
        "id": "b6shcmnz6FQn"
      },
      "execution_count": null,
      "outputs": []
    },
    {
      "cell_type": "code",
      "source": [
        "meth_df = data.copy()\n",
        "#assigning new column for meth\n",
        "\n",
        "meth_df['Meth_User'] = meth_df['Meth'].apply(lambda x: 1 if x not in [0,1] else 0)\n",
        "#droping uneccassry column\n",
        "meth_df = meth_df.drop(['Meth'], axis=1)"
      ],
      "metadata": {
        "id": "djwdgL_D_zZi"
      },
      "execution_count": null,
      "outputs": []
    },
    {
      "cell_type": "code",
      "source": [
        "heroin_df = data.copy()\n",
        "#assigning new column for heroin\n",
        "heroin_df['Heroin_User'] = heroin_df['Heroin'].apply(lambda x: 1 if x not in [0,1] else 0)\n",
        "#droping uneccassry column\n",
        "heroin_df = heroin_df.drop(['Heroin'], axis=1)"
      ],
      "metadata": {
        "id": "l5kTcv4q_9Mi"
      },
      "execution_count": null,
      "outputs": []
    },
    {
      "cell_type": "code",
      "source": [
        "nic_df = data.copy()\n",
        "#assigning new column for nicotine\n",
        "nic_df['Nicotine_User'] = nic_df['Nicotine'].apply(lambda x: 1 if x not in [0,1] else 0)\n",
        "#droping uneccassry column\n",
        "nic_df = nic_df.drop(['Nicotine'], axis=1)"
      ],
      "metadata": {
        "id": "GI8YdpPjADiI"
      },
      "execution_count": null,
      "outputs": []
    },
    {
      "cell_type": "code",
      "source": [
        "cocaine_df.head(1)"
      ],
      "metadata": {
        "id": "Q0xum84FAI44"
      },
      "execution_count": null,
      "outputs": []
    },
    {
      "cell_type": "code",
      "source": [
        "meth_df.head(1)"
      ],
      "metadata": {
        "id": "smjhR60_AOKF"
      },
      "execution_count": null,
      "outputs": []
    },
    {
      "cell_type": "code",
      "source": [
        "heroin_df.head(1)"
      ],
      "metadata": {
        "id": "0nPuzhZsAPGr"
      },
      "execution_count": null,
      "outputs": []
    },
    {
      "cell_type": "code",
      "source": [
        "nic_df.head(1)"
      ],
      "metadata": {
        "id": "BaOE9-fZASy_"
      },
      "execution_count": null,
      "outputs": []
    },
    {
      "cell_type": "code",
      "source": [
        "def preprocessing_inputs(df, column):\n",
        "    df = df.copy()\n",
        "\n",
        "    y = df[column]\n",
        "    X = df.drop(column, axis=1)\n",
        "\n",
        "    # Train-test split\n",
        "    X_train, X_test, y_train, y_test = train_test_split(X, y, test_size=0.2, random_state=1)\n",
        "\n",
        "    # Scale X\n",
        "    scaler = StandardScaler()\n",
        "    scaler.fit(X_train)\n",
        "\n",
        "    X_train = pd.DataFrame(scaler.transform(X_train), index=X_train.index, columns=X_train.columns) #index = x_train.index is used to preseve the row labels and columns = X_train.columns for columns\n",
        "    X_test = pd.DataFrame(scaler.transform(X_test), index=X_test.index, columns=X_test.columns)\n",
        "\n",
        "    return X_train, X_test, y_train, y_test"
      ],
      "metadata": {
        "id": "4n5FO8YNAZtR"
      },
      "execution_count": null,
      "outputs": []
    },
    {
      "cell_type": "markdown",
      "source": [
        "#Model Training\n",
        "\n"
      ],
      "metadata": {
        "id": "6JkmUbCnD0hB"
      }
    },
    {
      "cell_type": "code",
      "source": [],
      "metadata": {
        "id": "twgj5FiFE4i-"
      },
      "execution_count": null,
      "outputs": []
    },
    {
      "cell_type": "markdown",
      "source": [
        "#Cocaine\n"
      ],
      "metadata": {
        "id": "8anq1GQWD5My"
      }
    },
    {
      "cell_type": "code",
      "source": [
        "from sklearn.neighbors import KNeighborsClassifier\n",
        "from sklearn.metrics import classification_report\n",
        "\n",
        "X_train, X_test, y_train, y_test = preprocessing_inputs(cocaine_df, 'Cocaine_User')\n",
        "\n",
        "print('Train set:', X_train.shape, y_train.shape)\n",
        "print('Test set:', X_test.shape, y_test.shape)\n",
        "print()\n",
        "\n",
        "#KNN\n",
        "knn_model = KNeighborsClassifier(n_neighbors=3)\n",
        "knn_model.fit(X_train,y_train)\n",
        "y_pred = knn_model.predict(X_test)\n",
        "knn_report = classification_report(y_test,y_pred)\n",
        "\n",
        "print(\"---------------------Prediction with K-Nearest Neighbour---------------\")\n",
        "print(knn_report)\n",
        "\n",
        "#Naive Bayes\n",
        "from sklearn.naive_bayes import GaussianNB\n",
        "\n",
        "nb_model = GaussianNB()\n",
        "nb_model = nb_model.fit(X_train, y_train)\n",
        "y_pred = nb_model.predict(X_test)\n",
        "\n",
        "print('')\n",
        "print('---------------------Prediction with Naive Bayes---------------------')\n",
        "nb_report = classification_report(y_test,y_pred)\n",
        "print(classification_report(y_test,y_pred))\n",
        "\n",
        "#Logistic Regression\n",
        "from sklearn.linear_model import LogisticRegression\n",
        "\n",
        "lg_model = LogisticRegression()\n",
        "lg_model = lg_model.fit(X_train,y_train)\n",
        "prediction = lg_model.predict(X_test)\n",
        "\n",
        "print('')\n",
        "print('-----------------Prediction with Logistic Regression-----------------')\n",
        "lg_report = classification_report(y_test,prediction)\n",
        "print(lg_report)\n",
        "\n",
        "#SVM\n",
        "from sklearn.svm import SVC\n",
        "\n",
        "svm_model = SVC()\n",
        "svm_model = svm_model.fit(X_train,y_train)\n",
        "prediction = svm_model.predict(X_test)\n",
        "\n",
        "print('')\n",
        "print('---------------Prediction with Support Vector Machine----------------')\n",
        "svm_report = classification_report(y_test,prediction)\n",
        "print(svm_report)\n",
        "\n",
        "\n",
        "def extract_accuracy(report):\n",
        "    lines = report.split('\\n')\n",
        "    for line in lines:\n",
        "        if 'accuracy' in line:\n",
        "            return float(line.split()[-2])\n",
        "\n",
        "# Calculate and print accuracy for each classifier\n",
        "knn_accuracy = extract_accuracy(knn_report)\n",
        "nb_accuracy = extract_accuracy(nb_report)\n",
        "lg_accuracy = extract_accuracy(lg_report)\n",
        "svm_accuracy = extract_accuracy(svm_report)\n",
        "\n",
        "print('')\n",
        "print(f'Accuracy for K-Nearest Neighbour   : {knn_accuracy:.2f}')\n",
        "print(f'Accuracy for Naive Bayes           : {nb_accuracy:.2f}')\n",
        "print(f'Accuracy for Logic Regression      : {lg_accuracy:.2f}')\n",
        "print(f'Accuracy for Support Vector Machine: {svm_accuracy:.2f}')\n",
        "\n",
        "highest_int = max(knn_accuracy, nb_accuracy, lg_accuracy, svm_accuracy)\n",
        "\n",
        "# Print the highest integer\n",
        "print(f\"The highest integer is: {highest_int}\")\n"
      ],
      "metadata": {
        "id": "QfeITNV8D8H7"
      },
      "execution_count": null,
      "outputs": []
    },
    {
      "cell_type": "markdown",
      "source": [
        "#Meth"
      ],
      "metadata": {
        "id": "30sFDHRVqjhK"
      }
    },
    {
      "cell_type": "code",
      "source": [
        "from sklearn.neighbors import KNeighborsClassifier\n",
        "from sklearn.metrics import classification_report\n",
        "\n",
        "X_train, X_test, y_train, y_test = preprocessing_inputs(meth_df, 'Meth_User')\n",
        "\n",
        "print('Train set:', X_train.shape, y_train.shape)\n",
        "print('Test set:', X_test.shape, y_test.shape)\n",
        "print()\n",
        "\n",
        "#KNN\n",
        "knn_model = KNeighborsClassifier(n_neighbors=3)\n",
        "knn_model.fit(X_train,y_train)\n",
        "y_pred = knn_model.predict(X_test)\n",
        "knn_report = classification_report(y_test,y_pred)\n",
        "\n",
        "print(\"---------------------Prediction with K-Nearest Neighbour---------------\")\n",
        "print(knn_report)\n",
        "\n",
        "#Naive Bayes\n",
        "from sklearn.naive_bayes import GaussianNB\n",
        "\n",
        "nb_model = GaussianNB()\n",
        "nb_model = nb_model.fit(X_train, y_train)\n",
        "y_pred = nb_model.predict(X_test)\n",
        "\n",
        "print('')\n",
        "print('---------------------Prediction with Naive Bayes---------------------')\n",
        "nb_report = classification_report(y_test,y_pred)\n",
        "print(classification_report(y_test,y_pred))\n",
        "\n",
        "#Logistic Regression\n",
        "from sklearn.linear_model import LogisticRegression\n",
        "\n",
        "lg_model = LogisticRegression()\n",
        "lg_model = lg_model.fit(X_train,y_train)\n",
        "prediction = lg_model.predict(X_test)\n",
        "\n",
        "print('')\n",
        "print('-----------------Prediction with Logistic Regression-----------------')\n",
        "lg_report = classification_report(y_test,prediction)\n",
        "print(lg_report)\n",
        "\n",
        "#SVM\n",
        "from sklearn.svm import SVC\n",
        "\n",
        "svm_model = SVC()\n",
        "svm_model = svm_model.fit(X_train,y_train)\n",
        "prediction = svm_model.predict(X_test)\n",
        "\n",
        "print('')\n",
        "print('---------------Prediction with Support Vector Machine----------------')\n",
        "svm_report = classification_report(y_test,prediction)\n",
        "print(svm_report)\n",
        "\n",
        "\n",
        "def extract_accuracy(report):\n",
        "    lines = report.split('\\n')\n",
        "    for line in lines:\n",
        "        if 'accuracy' in line:\n",
        "            return float(line.split()[-2])\n",
        "\n",
        "# Calculate and print accuracy for each classifier\n",
        "knn_accuracy = extract_accuracy(knn_report)\n",
        "nb_accuracy = extract_accuracy(nb_report)\n",
        "lg_accuracy = extract_accuracy(lg_report)\n",
        "svm_accuracy = extract_accuracy(svm_report)\n",
        "\n",
        "print('')\n",
        "print(f'Accuracy for K-Nearest Neighbour   : {knn_accuracy:.2f}')\n",
        "print(f'Accuracy for Naive Bayes           : {nb_accuracy:.2f}')\n",
        "print(f'Accuracy for Logic Regression      : {lg_accuracy:.2f}')\n",
        "print(f'Accuracy for Support Vector Machine: {svm_accuracy:.2f}')\n",
        "\n",
        "highest_int = max(knn_accuracy, nb_accuracy, lg_accuracy, svm_accuracy)\n",
        "\n",
        "# Print the highest integer\n",
        "print(f\"The highest integer is: {highest_int}\")\n"
      ],
      "metadata": {
        "id": "0jnepgPYKS7M"
      },
      "execution_count": null,
      "outputs": []
    },
    {
      "cell_type": "markdown",
      "source": [],
      "metadata": {
        "id": "j1jgzsAarS34"
      }
    },
    {
      "cell_type": "markdown",
      "source": [
        "#Heroin"
      ],
      "metadata": {
        "id": "9hXXn4d3rct2"
      }
    },
    {
      "cell_type": "code",
      "source": [
        "from sklearn.neighbors import KNeighborsClassifier\n",
        "from sklearn.metrics import classification_report\n",
        "\n",
        "X_train, X_test, y_train, y_test = preprocessing_inputs(heroin_df, 'Heroin_User')\n",
        "\n",
        "print('Train set:', X_train.shape, y_train.shape)\n",
        "print('Test set:', X_test.shape, y_test.shape)\n",
        "print()\n",
        "\n",
        "#KNN\n",
        "knn_model = KNeighborsClassifier(n_neighbors=3)\n",
        "knn_model.fit(X_train,y_train)\n",
        "y_pred = knn_model.predict(X_test)\n",
        "knn_report = classification_report(y_test,y_pred)\n",
        "\n",
        "print(\"---------------------Prediction with K-Nearest Neighbour---------------\")\n",
        "print(knn_report)\n",
        "\n",
        "#Naive Bayes\n",
        "from sklearn.naive_bayes import GaussianNB\n",
        "\n",
        "nb_model = GaussianNB()\n",
        "nb_model = nb_model.fit(X_train, y_train)\n",
        "y_pred = nb_model.predict(X_test)\n",
        "\n",
        "print('')\n",
        "print('---------------------Prediction with Naive Bayes---------------------')\n",
        "nb_report = classification_report(y_test,y_pred)\n",
        "print(classification_report(y_test,y_pred))\n",
        "\n",
        "#Logistic Regression\n",
        "from sklearn.linear_model import LogisticRegression\n",
        "\n",
        "lg_model = LogisticRegression()\n",
        "lg_model = lg_model.fit(X_train,y_train)\n",
        "prediction = lg_model.predict(X_test)\n",
        "\n",
        "print('')\n",
        "print('-----------------Prediction with Logistic Regression-----------------')\n",
        "lg_report = classification_report(y_test,prediction)\n",
        "print(lg_report)\n",
        "\n",
        "#SVM\n",
        "from sklearn.svm import SVC\n",
        "\n",
        "svm_model = SVC()\n",
        "svm_model = svm_model.fit(X_train,y_train)\n",
        "prediction = svm_model.predict(X_test)\n",
        "\n",
        "print('')\n",
        "print('---------------Prediction with Support Vector Machine----------------')\n",
        "svm_report = classification_report(y_test,prediction)\n",
        "print(svm_report)\n",
        "\n",
        "\n",
        "def extract_accuracy(report):\n",
        "    lines = report.split('\\n')\n",
        "    for line in lines:\n",
        "        if 'accuracy' in line:\n",
        "            return float(line.split()[-2])\n",
        "\n",
        "# Calculate and print accuracy for each classifier\n",
        "knn_accuracy = extract_accuracy(knn_report)\n",
        "nb_accuracy = extract_accuracy(nb_report)\n",
        "lg_accuracy = extract_accuracy(lg_report)\n",
        "svm_accuracy = extract_accuracy(svm_report)\n",
        "\n",
        "print('')\n",
        "print(f'Accuracy for K-Nearest Neighbour   : {knn_accuracy:.2f}')\n",
        "print(f'Accuracy for Naive Bayes           : {nb_accuracy:.2f}')\n",
        "print(f'Accuracy for Logic Regression      : {lg_accuracy:.2f}')\n",
        "print(f'Accuracy for Support Vector Machine: {svm_accuracy:.2f}')\n",
        "\n",
        "highest_int = max(knn_accuracy, nb_accuracy, lg_accuracy, svm_accuracy)\n",
        "\n",
        "# Print the highest integer\n",
        "print(f\"The highest integer is: {highest_int}\")\n"
      ],
      "metadata": {
        "id": "tECQzmJtrhL4"
      },
      "execution_count": null,
      "outputs": []
    },
    {
      "cell_type": "markdown",
      "source": [
        "#Nicotine"
      ],
      "metadata": {
        "id": "AOvY2v8or8Z-"
      }
    },
    {
      "cell_type": "code",
      "source": [
        "from sklearn.neighbors import KNeighborsClassifier\n",
        "from sklearn.metrics import classification_report\n",
        "\n",
        "X_train, X_test, y_train, y_test = preprocessing_inputs(nic_df, 'Nicotine_User')\n",
        "\n",
        "print('Train set:', X_train.shape, y_train.shape)\n",
        "print('Test set:', X_test.shape, y_test.shape)\n",
        "print()\n",
        "\n",
        "#KNN\n",
        "knn_model = KNeighborsClassifier(n_neighbors=3)\n",
        "knn_model.fit(X_train,y_train)\n",
        "y_pred = knn_model.predict(X_test)\n",
        "knn_report = classification_report(y_test,y_pred)\n",
        "\n",
        "print(\"---------------------Prediction with K-Nearest Neighbour---------------\")\n",
        "print(knn_report)\n",
        "\n",
        "#Naive Bayes\n",
        "from sklearn.naive_bayes import GaussianNB\n",
        "\n",
        "nb_model = GaussianNB()\n",
        "nb_model = nb_model.fit(X_train, y_train)\n",
        "y_pred = nb_model.predict(X_test)\n",
        "\n",
        "print('')\n",
        "print('---------------------Prediction with Naive Bayes---------------------')\n",
        "nb_report = classification_report(y_test,y_pred)\n",
        "print(classification_report(y_test,y_pred))\n",
        "\n",
        "#Logistic Regression\n",
        "from sklearn.linear_model import LogisticRegression\n",
        "\n",
        "lg_model = LogisticRegression()\n",
        "lg_model = lg_model.fit(X_train,y_train)\n",
        "prediction = lg_model.predict(X_test)\n",
        "\n",
        "print('')\n",
        "print('-----------------Prediction with Logistic Regression-----------------')\n",
        "lg_report = classification_report(y_test,prediction)\n",
        "print(lg_report)\n",
        "\n",
        "#SVM\n",
        "from sklearn.svm import SVC\n",
        "\n",
        "svm_model = SVC()\n",
        "svm_model = svm_model.fit(X_train,y_train)\n",
        "prediction = svm_model.predict(X_test)\n",
        "\n",
        "print('')\n",
        "print('---------------Prediction with Support Vector Machine----------------')\n",
        "svm_report = classification_report(y_test,prediction)\n",
        "print(svm_report)\n",
        "\n",
        "\n",
        "def extract_accuracy(report):\n",
        "    lines = report.split('\\n')\n",
        "    for line in lines:\n",
        "        if 'accuracy' in line:\n",
        "            return float(line.split()[-2])\n",
        "\n",
        "# Calculate and print accuracy for each classifier\n",
        "knn_accuracy = extract_accuracy(knn_report)\n",
        "nb_accuracy = extract_accuracy(nb_report)\n",
        "lg_accuracy = extract_accuracy(lg_report)\n",
        "svm_accuracy = extract_accuracy(svm_report)\n",
        "\n",
        "print('')\n",
        "print(f'Accuracy for K-Nearest Neighbour   : {knn_accuracy:.2f}')\n",
        "print(f'Accuracy for Naive Bayes           : {nb_accuracy:.2f}')\n",
        "print(f'Accuracy for Logic Regression      : {lg_accuracy:.2f}')\n",
        "print(f'Accuracy for Support Vector Machine: {svm_accuracy:.2f}')\n",
        "\n",
        "highest_int = max(knn_accuracy, nb_accuracy, lg_accuracy, svm_accuracy)\n",
        "\n",
        "# Print the highest integer\n",
        "print(f\"The highest integer is: {highest_int}\")\n"
      ],
      "metadata": {
        "id": "rtAq0sTusALo"
      },
      "execution_count": null,
      "outputs": []
    }
  ]
}