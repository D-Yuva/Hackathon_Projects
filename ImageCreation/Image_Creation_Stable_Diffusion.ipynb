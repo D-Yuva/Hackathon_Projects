{
  "nbformat": 4,
  "nbformat_minor": 0,
  "metadata": {
    "colab": {
      "provenance": [],
      "gpuType": "T4"
    },
    "kernelspec": {
      "name": "python3",
      "display_name": "Python 3"
    },
    "language_info": {
      "name": "python"
    },
    "accelerator": "GPU"
  },
  "cells": [
    {
      "cell_type": "code",
      "source": [
        "from huggingface_hub import InferenceClient\n",
        "from google.colab import userdata\n",
        "\n",
        "HF_TOKEN = userdata.get('HF_TOKEN')\n",
        "client = InferenceClient(\"stabilityai/stable-diffusion-xl-base-1.0\", token=HF_TOKEN)\n",
        "\n",
        "image = client.text_to_image(\"Spiderman vs Batman\")"
      ],
      "metadata": {
        "id": "3dKXOKcbGIyv"
      },
      "execution_count": null,
      "outputs": []
    },
    {
      "cell_type": "code",
      "source": [
        "image.save(\"test.png\")"
      ],
      "metadata": {
        "id": "s3bDBYS-GrLy"
      },
      "execution_count": null,
      "outputs": []
    }
  ]
}